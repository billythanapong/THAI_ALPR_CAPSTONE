{
 "cells": [
  {
   "cell_type": "markdown",
   "metadata": {
    "colab_type": "text",
    "id": "view-in-github"
   },
   "source": [
    "<a href=\"https://colab.research.google.com/github/billythanapong/THAI_ALPR/blob/main/Model/Evaluation_model.ipynb\" target=\"_parent\"><img src=\"https://colab.research.google.com/assets/colab-badge.svg\" alt=\"Open In Colab\"/></a>"
   ]
  },
  {
   "cell_type": "code",
   "execution_count": 1,
   "metadata": {
    "colab": {
     "base_uri": "https://localhost:8080/"
    },
    "id": "9tuaWGwGJrFu",
    "outputId": "5b14dbdb-96b0-48a6-8cd6-f4ae1389679b"
   },
   "outputs": [
    {
     "name": "stdout",
     "output_type": "stream",
     "text": [
      "Mounted at /content/drive\n"
     ]
    }
   ],
   "source": [
    "from google.colab import drive\n",
    "drive.mount('/content/drive')"
   ]
  },
  {
   "cell_type": "code",
   "execution_count": 34,
   "metadata": {
    "id": "DR4_ylqpKarZ"
   },
   "outputs": [],
   "source": [
    "import numpy as np\n",
    "import pandas as pd\n",
    "import zipfile\n",
    "import yaml\n",
    "import plotly.express as px"
   ]
  },
  {
   "cell_type": "code",
   "execution_count": 7,
   "metadata": {
    "colab": {
     "base_uri": "https://localhost:8080/"
    },
    "id": "qTw8HALQKDJc",
    "outputId": "770b3e49-992a-4449-983b-937aa598e50b"
   },
   "outputs": [
    {
     "name": "stdout",
     "output_type": "stream",
     "text": [
      "Cloning into 'yolov5'...\n",
      "remote: Enumerating objects: 15064, done.\u001b[K\n",
      "remote: Counting objects: 100% (103/103), done.\u001b[K\n",
      "remote: Compressing objects: 100% (51/51), done.\u001b[K\n",
      "remote: Total 15064 (delta 66), reused 84 (delta 52), pack-reused 14961\u001b[K\n",
      "Receiving objects: 100% (15064/15064), 13.71 MiB | 26.04 MiB/s, done.\n",
      "Resolving deltas: 100% (10405/10405), done.\n",
      "/content/yolov5\n",
      "Looking in indexes: https://pypi.org/simple, https://us-python.pkg.dev/colab-wheels/public/simple/\n",
      "Requirement already satisfied: ipython in /usr/local/lib/python3.7/dist-packages (from -r requirements.txt (line 5)) (7.9.0)\n",
      "Requirement already satisfied: matplotlib>=3.2.2 in /usr/local/lib/python3.7/dist-packages (from -r requirements.txt (line 6)) (3.2.2)\n",
      "Requirement already satisfied: numpy>=1.18.5 in /usr/local/lib/python3.7/dist-packages (from -r requirements.txt (line 7)) (1.21.6)\n",
      "Requirement already satisfied: opencv-python>=4.1.1 in /usr/local/lib/python3.7/dist-packages (from -r requirements.txt (line 8)) (4.6.0.66)\n",
      "Requirement already satisfied: Pillow>=7.1.2 in /usr/local/lib/python3.7/dist-packages (from -r requirements.txt (line 9)) (7.1.2)\n",
      "Requirement already satisfied: psutil in /usr/local/lib/python3.7/dist-packages (from -r requirements.txt (line 10)) (5.4.8)\n",
      "Requirement already satisfied: PyYAML>=5.3.1 in /usr/local/lib/python3.7/dist-packages (from -r requirements.txt (line 11)) (6.0)\n",
      "Requirement already satisfied: requests>=2.23.0 in /usr/local/lib/python3.7/dist-packages (from -r requirements.txt (line 12)) (2.23.0)\n",
      "Requirement already satisfied: scipy>=1.4.1 in /usr/local/lib/python3.7/dist-packages (from -r requirements.txt (line 13)) (1.7.3)\n",
      "Collecting thop>=0.1.1\n",
      "  Downloading thop-0.1.1.post2209072238-py3-none-any.whl (15 kB)\n",
      "Requirement already satisfied: torch>=1.7.0 in /usr/local/lib/python3.7/dist-packages (from -r requirements.txt (line 15)) (1.12.1+cu113)\n",
      "Requirement already satisfied: torchvision>=0.8.1 in /usr/local/lib/python3.7/dist-packages (from -r requirements.txt (line 16)) (0.13.1+cu113)\n",
      "Requirement already satisfied: tqdm>=4.64.0 in /usr/local/lib/python3.7/dist-packages (from -r requirements.txt (line 17)) (4.64.1)\n",
      "Requirement already satisfied: tensorboard>=2.4.1 in /usr/local/lib/python3.7/dist-packages (from -r requirements.txt (line 21)) (2.9.1)\n",
      "Requirement already satisfied: pandas>=1.1.4 in /usr/local/lib/python3.7/dist-packages (from -r requirements.txt (line 26)) (1.3.5)\n",
      "Requirement already satisfied: seaborn>=0.11.0 in /usr/local/lib/python3.7/dist-packages (from -r requirements.txt (line 27)) (0.11.2)\n",
      "Requirement already satisfied: cycler>=0.10 in /usr/local/lib/python3.7/dist-packages (from matplotlib>=3.2.2->-r requirements.txt (line 6)) (0.11.0)\n",
      "Requirement already satisfied: python-dateutil>=2.1 in /usr/local/lib/python3.7/dist-packages (from matplotlib>=3.2.2->-r requirements.txt (line 6)) (2.8.2)\n",
      "Requirement already satisfied: kiwisolver>=1.0.1 in /usr/local/lib/python3.7/dist-packages (from matplotlib>=3.2.2->-r requirements.txt (line 6)) (1.4.4)\n",
      "Requirement already satisfied: pyparsing!=2.0.4,!=2.1.2,!=2.1.6,>=2.0.1 in /usr/local/lib/python3.7/dist-packages (from matplotlib>=3.2.2->-r requirements.txt (line 6)) (3.0.9)\n",
      "Requirement already satisfied: certifi>=2017.4.17 in /usr/local/lib/python3.7/dist-packages (from requests>=2.23.0->-r requirements.txt (line 12)) (2022.9.24)\n",
      "Requirement already satisfied: urllib3!=1.25.0,!=1.25.1,<1.26,>=1.21.1 in /usr/local/lib/python3.7/dist-packages (from requests>=2.23.0->-r requirements.txt (line 12)) (1.24.3)\n",
      "Requirement already satisfied: idna<3,>=2.5 in /usr/local/lib/python3.7/dist-packages (from requests>=2.23.0->-r requirements.txt (line 12)) (2.10)\n",
      "Requirement already satisfied: chardet<4,>=3.0.2 in /usr/local/lib/python3.7/dist-packages (from requests>=2.23.0->-r requirements.txt (line 12)) (3.0.4)\n",
      "Requirement already satisfied: typing-extensions in /usr/local/lib/python3.7/dist-packages (from torch>=1.7.0->-r requirements.txt (line 15)) (4.1.1)\n",
      "Requirement already satisfied: wheel>=0.26 in /usr/local/lib/python3.7/dist-packages (from tensorboard>=2.4.1->-r requirements.txt (line 21)) (0.38.3)\n",
      "Requirement already satisfied: tensorboard-plugin-wit>=1.6.0 in /usr/local/lib/python3.7/dist-packages (from tensorboard>=2.4.1->-r requirements.txt (line 21)) (1.8.1)\n",
      "Requirement already satisfied: werkzeug>=1.0.1 in /usr/local/lib/python3.7/dist-packages (from tensorboard>=2.4.1->-r requirements.txt (line 21)) (1.0.1)\n",
      "Requirement already satisfied: setuptools>=41.0.0 in /usr/local/lib/python3.7/dist-packages (from tensorboard>=2.4.1->-r requirements.txt (line 21)) (57.4.0)\n",
      "Requirement already satisfied: markdown>=2.6.8 in /usr/local/lib/python3.7/dist-packages (from tensorboard>=2.4.1->-r requirements.txt (line 21)) (3.4.1)\n",
      "Requirement already satisfied: google-auth-oauthlib<0.5,>=0.4.1 in /usr/local/lib/python3.7/dist-packages (from tensorboard>=2.4.1->-r requirements.txt (line 21)) (0.4.6)\n",
      "Requirement already satisfied: tensorboard-data-server<0.7.0,>=0.6.0 in /usr/local/lib/python3.7/dist-packages (from tensorboard>=2.4.1->-r requirements.txt (line 21)) (0.6.1)\n",
      "Requirement already satisfied: absl-py>=0.4 in /usr/local/lib/python3.7/dist-packages (from tensorboard>=2.4.1->-r requirements.txt (line 21)) (1.3.0)\n",
      "Requirement already satisfied: protobuf<3.20,>=3.9.2 in /usr/local/lib/python3.7/dist-packages (from tensorboard>=2.4.1->-r requirements.txt (line 21)) (3.19.6)\n",
      "Requirement already satisfied: grpcio>=1.24.3 in /usr/local/lib/python3.7/dist-packages (from tensorboard>=2.4.1->-r requirements.txt (line 21)) (1.50.0)\n",
      "Requirement already satisfied: google-auth<3,>=1.6.3 in /usr/local/lib/python3.7/dist-packages (from tensorboard>=2.4.1->-r requirements.txt (line 21)) (2.14.1)\n",
      "Requirement already satisfied: pytz>=2017.3 in /usr/local/lib/python3.7/dist-packages (from pandas>=1.1.4->-r requirements.txt (line 26)) (2022.6)\n",
      "Requirement already satisfied: six>=1.9.0 in /usr/local/lib/python3.7/dist-packages (from google-auth<3,>=1.6.3->tensorboard>=2.4.1->-r requirements.txt (line 21)) (1.15.0)\n",
      "Requirement already satisfied: pyasn1-modules>=0.2.1 in /usr/local/lib/python3.7/dist-packages (from google-auth<3,>=1.6.3->tensorboard>=2.4.1->-r requirements.txt (line 21)) (0.2.8)\n",
      "Requirement already satisfied: cachetools<6.0,>=2.0.0 in /usr/local/lib/python3.7/dist-packages (from google-auth<3,>=1.6.3->tensorboard>=2.4.1->-r requirements.txt (line 21)) (5.2.0)\n",
      "Requirement already satisfied: rsa<5,>=3.1.4 in /usr/local/lib/python3.7/dist-packages (from google-auth<3,>=1.6.3->tensorboard>=2.4.1->-r requirements.txt (line 21)) (4.9)\n",
      "Requirement already satisfied: requests-oauthlib>=0.7.0 in /usr/local/lib/python3.7/dist-packages (from google-auth-oauthlib<0.5,>=0.4.1->tensorboard>=2.4.1->-r requirements.txt (line 21)) (1.3.1)\n",
      "Requirement already satisfied: importlib-metadata>=4.4 in /usr/local/lib/python3.7/dist-packages (from markdown>=2.6.8->tensorboard>=2.4.1->-r requirements.txt (line 21)) (4.13.0)\n",
      "Requirement already satisfied: zipp>=0.5 in /usr/local/lib/python3.7/dist-packages (from importlib-metadata>=4.4->markdown>=2.6.8->tensorboard>=2.4.1->-r requirements.txt (line 21)) (3.10.0)\n",
      "Requirement already satisfied: pyasn1<0.5.0,>=0.4.6 in /usr/local/lib/python3.7/dist-packages (from pyasn1-modules>=0.2.1->google-auth<3,>=1.6.3->tensorboard>=2.4.1->-r requirements.txt (line 21)) (0.4.8)\n",
      "Requirement already satisfied: oauthlib>=3.0.0 in /usr/local/lib/python3.7/dist-packages (from requests-oauthlib>=0.7.0->google-auth-oauthlib<0.5,>=0.4.1->tensorboard>=2.4.1->-r requirements.txt (line 21)) (3.2.2)\n",
      "Requirement already satisfied: pexpect in /usr/local/lib/python3.7/dist-packages (from ipython->-r requirements.txt (line 5)) (4.8.0)\n",
      "Requirement already satisfied: pickleshare in /usr/local/lib/python3.7/dist-packages (from ipython->-r requirements.txt (line 5)) (0.7.5)\n",
      "Requirement already satisfied: prompt-toolkit<2.1.0,>=2.0.0 in /usr/local/lib/python3.7/dist-packages (from ipython->-r requirements.txt (line 5)) (2.0.10)\n",
      "Requirement already satisfied: pygments in /usr/local/lib/python3.7/dist-packages (from ipython->-r requirements.txt (line 5)) (2.6.1)\n",
      "Requirement already satisfied: decorator in /usr/local/lib/python3.7/dist-packages (from ipython->-r requirements.txt (line 5)) (4.4.2)\n",
      "Collecting jedi>=0.10\n",
      "  Downloading jedi-0.18.1-py2.py3-none-any.whl (1.6 MB)\n",
      "\u001b[K     |████████████████████████████████| 1.6 MB 5.1 MB/s \n",
      "\u001b[?25hRequirement already satisfied: traitlets>=4.2 in /usr/local/lib/python3.7/dist-packages (from ipython->-r requirements.txt (line 5)) (5.1.1)\n",
      "Requirement already satisfied: backcall in /usr/local/lib/python3.7/dist-packages (from ipython->-r requirements.txt (line 5)) (0.2.0)\n",
      "Requirement already satisfied: parso<0.9.0,>=0.8.0 in /usr/local/lib/python3.7/dist-packages (from jedi>=0.10->ipython->-r requirements.txt (line 5)) (0.8.3)\n",
      "Requirement already satisfied: wcwidth in /usr/local/lib/python3.7/dist-packages (from prompt-toolkit<2.1.0,>=2.0.0->ipython->-r requirements.txt (line 5)) (0.2.5)\n",
      "Requirement already satisfied: ptyprocess>=0.5 in /usr/local/lib/python3.7/dist-packages (from pexpect->ipython->-r requirements.txt (line 5)) (0.7.0)\n",
      "Installing collected packages: jedi, thop\n",
      "Successfully installed jedi-0.18.1 thop-0.1.1.post2209072238\n"
     ]
    }
   ],
   "source": [
    "!git clone https://github.com/ultralytics/yolov5  # clone\n",
    "%cd yolov5\n",
    "!pip install -r requirements.txt  # install"
   ]
  },
  {
   "cell_type": "code",
   "execution_count": 12,
   "metadata": {
    "id": "3m_5mGGQN6y0"
   },
   "outputs": [],
   "source": [
    "# make directory to keep the image data\n",
    "\n",
    "!mkdir dataset"
   ]
  },
  {
   "cell_type": "code",
   "execution_count": 13,
   "metadata": {
    "id": "h-XBkVkCN229"
   },
   "outputs": [],
   "source": [
    "!cp /content/drive/MyDrive/CAPSTONE/image.zip /content/yolov5/dataset/\n",
    "with zipfile.ZipFile('/content/drive/MyDrive/CAPSTONE/image.zip', 'r') as zip_ref:\n",
    "     zip_ref.extractall('/content/yolov5/dataset/')\n",
    "\n",
    "!mv /content/yolov5/dataset/test/ /content/yolov5/dataset/val"
   ]
  },
  {
   "cell_type": "code",
   "execution_count": 16,
   "metadata": {
    "id": "_is57LaDN4gk"
   },
   "outputs": [],
   "source": [
    "# create data yaml file\n",
    "data = dict(\n",
    "  train ='/content/yolov5/dataset/train/',\n",
    "  val= '/content/yolov5/dataset/val/',  \n",
    "\n",
    "  # number of class\n",
    "  nc = 1,\n",
    "  # class name\n",
    "  names = [\"license plate\"]\n",
    ")\n",
    "\n",
    "with open('/content/yolov5/custom.yaml', 'w') as outfile:\n",
    "    yaml.dump(data, outfile, default_flow_style=False)"
   ]
  },
  {
   "cell_type": "markdown",
   "metadata": {
    "id": "-LlX8vTpLYxh"
   },
   "source": [
    "# Default"
   ]
  },
  {
   "cell_type": "markdown",
   "metadata": {
    "id": "mKX8BMQYNgjy"
   },
   "source": [
    "- Val"
   ]
  },
  {
   "cell_type": "code",
   "execution_count": 18,
   "metadata": {
    "colab": {
     "base_uri": "https://localhost:8080/"
    },
    "id": "cU0GX9z7KmMo",
    "outputId": "c9b60c17-da5d-4851-8fd0-52db58a4a195"
   },
   "outputs": [
    {
     "name": "stdout",
     "output_type": "stream",
     "text": [
      "\u001b[34m\u001b[1mval: \u001b[0mdata=/content/yolov5/custom.yaml, weights=['/content/drive/MyDrive/3_weights/Default_size640/weights/best.pt'], batch_size=32, imgsz=640, conf_thres=0.001, iou_thres=0.6, max_det=300, task=val, device=, workers=8, single_cls=False, augment=True, verbose=False, save_txt=False, save_hybrid=False, save_conf=False, save_json=False, project=runs/val, name=exp, exist_ok=False, half=False, dnn=False\n",
      "YOLOv5 🚀 v6.2-245-g9057510 Python-3.7.15 torch-1.12.1+cu113 CPU\n",
      "\n",
      "Fusing layers... \n",
      "Model summary: 157 layers, 7012822 parameters, 0 gradients, 15.8 GFLOPs\n",
      "\u001b[34m\u001b[1mval: \u001b[0mScanning '/content/yolov5/dataset/val.cache' images and labels... 100 found, 0 missing, 0 empty, 0 corrupt: 100% 100/100 [00:00<?, ?it/s]\n",
      "                 Class     Images  Instances          P          R      mAP50   mAP50-95: 100% 4/4 [01:25<00:00, 21.36s/it]\n",
      "                   all        100        100      0.988       0.98      0.993       0.68\n",
      "Speed: 7.2ms pre-process, 836.5ms inference, 0.8ms NMS per image at shape (32, 3, 640, 640)\n",
      "Results saved to \u001b[1mruns/val/exp2\u001b[0m\n"
     ]
    }
   ],
   "source": [
    "!python /content/yolov5/val.py --weights /content/drive/MyDrive/3_weights/Default_size640/weights/best.pt  --data /content/yolov5/custom.yaml --img 640 --augment"
   ]
  },
  {
   "cell_type": "markdown",
   "metadata": {
    "id": "p6qKItP5NkDU"
   },
   "source": [
    "- Inference"
   ]
  },
  {
   "cell_type": "code",
   "execution_count": 21,
   "metadata": {
    "colab": {
     "base_uri": "https://localhost:8080/"
    },
    "id": "0wiagA9MRR4V",
    "outputId": "488b3602-cfe1-4b81-f12f-bdc0ef8f7ac0"
   },
   "outputs": [
    {
     "name": "stdout",
     "output_type": "stream",
     "text": [
      "\u001b[34m\u001b[1mdetect: \u001b[0mweights=['/content/drive/MyDrive/3_weights/Default_size640/weights/best.pt'], source=/content/drive/MyDrive/CAPSTONE/images, data=data/coco128.yaml, imgsz=[640, 640], conf_thres=0.25, iou_thres=0.45, max_det=1000, device=, view_img=False, save_txt=False, save_conf=False, save_crop=False, nosave=False, classes=None, agnostic_nms=False, augment=False, visualize=False, update=False, project=runs/detect, name=exp, exist_ok=False, line_thickness=3, hide_labels=False, hide_conf=False, half=False, dnn=False, vid_stride=1\n",
      "YOLOv5 🚀 v6.2-245-g9057510 Python-3.7.15 torch-1.12.1+cu113 CPU\n",
      "\n",
      "Fusing layers... \n",
      "Model summary: 157 layers, 7012822 parameters, 0 gradients, 15.8 GFLOPs\n",
      "image 1/84 /content/drive/MyDrive/CAPSTONE/images/1A938B5E-FCA0-4B5A-9155-1E4EC26D496F.jpg: 640x480 1 license plate, 311.1ms\n",
      "image 2/84 /content/drive/MyDrive/CAPSTONE/images/312493403_903901370595857_2506180199714023189_n.jpg: 480x640 1 license plate, 335.2ms\n",
      "image 3/84 /content/drive/MyDrive/CAPSTONE/images/313716762_5070109693091232_1204559964551146962_n.jpg: 416x640 1 license plate, 299.6ms\n",
      "image 4/84 /content/drive/MyDrive/CAPSTONE/images/314525103_895153225196812_7014652717854055588_n.jpg: 480x640 1 license plate, 323.6ms\n",
      "image 5/84 /content/drive/MyDrive/CAPSTONE/images/314590065_882451159584639_3416671258954966713_n.jpg: 512x640 2 license plates, 335.2ms\n",
      "image 6/84 /content/drive/MyDrive/CAPSTONE/images/314606720_1288764025280635_6219434079830678653_n.jpg: 480x640 1 license plate, 301.6ms\n",
      "image 7/84 /content/drive/MyDrive/CAPSTONE/images/314613162_512389200904894_2229814920629415842_n.jpg: 480x640 2 license plates, 302.7ms\n",
      "image 8/84 /content/drive/MyDrive/CAPSTONE/images/314663714_653506702896479_3236375469855944224_n.webp: 480x640 1 license plate, 321.5ms\n",
      "image 9/84 /content/drive/MyDrive/CAPSTONE/images/314672525_1351235182370773_7672486272300660718_n.jpg: 512x640 2 license plates, 349.5ms\n",
      "image 10/84 /content/drive/MyDrive/CAPSTONE/images/314689317_618977873343968_2345485700038734625_n.jpg: 480x640 1 license plate, 298.2ms\n",
      "image 11/84 /content/drive/MyDrive/CAPSTONE/images/314714962_236517408725938_2006792105257369366_n.jpg: 480x640 1 license plate, 316.5ms\n",
      "image 12/84 /content/drive/MyDrive/CAPSTONE/images/314776745_1074584773213591_5281841184447624918_n.jpg: 512x640 2 license plates, 324.5ms\n",
      "image 13/84 /content/drive/MyDrive/CAPSTONE/images/314814683_838879320639599_5619724239676057522_n.jpg: 480x640 1 license plate, 303.7ms\n",
      "image 14/84 /content/drive/MyDrive/CAPSTONE/images/314851697_805336163856118_9065190787695731514_n.jpg: 512x640 1 license plate, 324.3ms\n",
      "image 15/84 /content/drive/MyDrive/CAPSTONE/images/314858918_826063335267920_249437641828861897_n.jpg: 512x640 1 license plate, 330.9ms\n",
      "image 16/84 /content/drive/MyDrive/CAPSTONE/images/314867996_129961339854516_7255043794685098635_n.webp: 640x640 1 license plate, 428.8ms\n",
      "image 17/84 /content/drive/MyDrive/CAPSTONE/images/314910394_422016973284020_7942120062144552414_n.webp: 480x640 1 license plate, 317.9ms\n",
      "image 18/84 /content/drive/MyDrive/CAPSTONE/images/314913461_162637219794772_31200607822189544_n.jpg: 480x640 1 license plate, 306.9ms\n",
      "image 19/84 /content/drive/MyDrive/CAPSTONE/images/314920455_1585681255216695_6956969436455171306_n.webp: 544x640 1 license plate, 361.0ms\n",
      "image 20/84 /content/drive/MyDrive/CAPSTONE/images/314922018_198353459327633_8897536487609198652_n.jpg: 480x640 1 license plate, 327.0ms\n",
      "image 21/84 /content/drive/MyDrive/CAPSTONE/images/314924488_184804274092282_5140518568296132823_n.jpg: 480x640 1 license plate, 332.3ms\n",
      "image 22/84 /content/drive/MyDrive/CAPSTONE/images/314927999_5402095556582730_7418547219284206692_n.jpg: 480x640 1 license plate, 317.5ms\n",
      "image 23/84 /content/drive/MyDrive/CAPSTONE/images/314929761_3069594456520012_5177594339745214395_n.jpg: 448x640 1 license plate, 319.7ms\n",
      "image 24/84 /content/drive/MyDrive/CAPSTONE/images/315011259_900942750897300_3233034524543049884_n.jpg: 480x640 1 license plate, 328.8ms\n",
      "image 25/84 /content/drive/MyDrive/CAPSTONE/images/315147715_3012964972334750_7497911580481789799_n.jpg: 480x640 1 license plate, 309.3ms\n",
      "image 26/84 /content/drive/MyDrive/CAPSTONE/images/315203410_422370163437341_1117315966302147771_n.jpg: 480x640 1 license plate, 319.2ms\n",
      "image 27/84 /content/drive/MyDrive/CAPSTONE/images/315231747_188751336994374_4938931236546430515_n.jpg: 448x640 1 license plate, 291.4ms\n",
      "image 28/84 /content/drive/MyDrive/CAPSTONE/images/5AC7D43F-1826-472C-A1C6-C24023110111.jpg: 640x384 1 license plate, 311.6ms\n",
      "image 29/84 /content/drive/MyDrive/CAPSTONE/images/7916BD0F-F735-4161-9CA3-62C43F47074D.jpg: 640x480 1 license plate, 310.7ms\n",
      "image 30/84 /content/drive/MyDrive/CAPSTONE/images/860AA50D-5E90-4623-8385-BEFDC706ECAF.jpg: 640x480 1 license plate, 313.4ms\n",
      "image 31/84 /content/drive/MyDrive/CAPSTONE/images/IMG_5302.jpg: 480x640 1 license plate, 309.2ms\n",
      "image 32/84 /content/drive/MyDrive/CAPSTONE/images/IMG_5304.jpg: 480x640 1 license plate, 316.7ms\n",
      "image 33/84 /content/drive/MyDrive/CAPSTONE/images/IMG_5306.jpg: 640x480 1 license plate, 303.0ms\n",
      "image 34/84 /content/drive/MyDrive/CAPSTONE/images/IMG_5308.jpg: 640x480 1 license plate, 314.2ms\n",
      "image 35/84 /content/drive/MyDrive/CAPSTONE/images/IMG_5310.jpg: 640x480 1 license plate, 303.8ms\n",
      "image 36/84 /content/drive/MyDrive/CAPSTONE/images/IMG_5311.jpg: 640x480 1 license plate, 300.1ms\n",
      "image 37/84 /content/drive/MyDrive/CAPSTONE/images/IMG_5312.jpg: 640x480 1 license plate, 316.3ms\n",
      "image 38/84 /content/drive/MyDrive/CAPSTONE/images/IMG_5313.jpg: 640x480 1 license plate, 307.7ms\n",
      "image 39/84 /content/drive/MyDrive/CAPSTONE/images/IMG_5314.jpg: 640x480 (no detections), 314.2ms\n",
      "image 40/84 /content/drive/MyDrive/CAPSTONE/images/IMG_5315.jpg: 640x480 1 license plate, 299.8ms\n",
      "image 41/84 /content/drive/MyDrive/CAPSTONE/images/IMG_5316.jpg: 640x480 (no detections), 315.2ms\n",
      "image 42/84 /content/drive/MyDrive/CAPSTONE/images/IMG_5317.jpg: 640x480 1 license plate, 360.4ms\n",
      "image 43/84 /content/drive/MyDrive/CAPSTONE/images/IMG_5318.jpg: 640x480 1 license plate, 307.5ms\n",
      "image 44/84 /content/drive/MyDrive/CAPSTONE/images/IMG_5319.jpg: 640x480 1 license plate, 303.7ms\n",
      "image 45/84 /content/drive/MyDrive/CAPSTONE/images/IMG_5320.jpg: 640x480 (no detections), 300.9ms\n",
      "image 46/84 /content/drive/MyDrive/CAPSTONE/images/IMG_5322.jpg: 640x480 1 license plate, 313.1ms\n",
      "image 47/84 /content/drive/MyDrive/CAPSTONE/images/IMG_5324.jpg: 640x480 1 license plate, 310.2ms\n",
      "image 48/84 /content/drive/MyDrive/CAPSTONE/images/IMG_5325.jpg: 640x480 1 license plate, 296.8ms\n",
      "image 49/84 /content/drive/MyDrive/CAPSTONE/images/IMG_5326.jpg: 640x480 1 license plate, 301.6ms\n",
      "image 50/84 /content/drive/MyDrive/CAPSTONE/images/IMG_5327.jpg: 640x480 1 license plate, 314.5ms\n",
      "image 51/84 /content/drive/MyDrive/CAPSTONE/images/S__65085455.jpg: 480x640 1 license plate, 311.8ms\n",
      "image 52/84 /content/drive/MyDrive/CAPSTONE/images/S__65085466.jpg: 480x640 1 license plate, 308.5ms\n",
      "image 53/84 /content/drive/MyDrive/CAPSTONE/images/S__65085483.jpg: 480x640 1 license plate, 334.5ms\n",
      "image 54/84 /content/drive/MyDrive/CAPSTONE/images/S__65085485.jpg: 640x480 1 license plate, 334.9ms\n",
      "image 55/84 /content/drive/MyDrive/CAPSTONE/images/S__65085486.jpg: 640x480 1 license plate, 315.0ms\n",
      "image 56/84 /content/drive/MyDrive/CAPSTONE/images/S__65085487.jpg: 640x480 1 license plate, 323.4ms\n",
      "image 57/84 /content/drive/MyDrive/CAPSTONE/images/S__65085488.jpg: 640x480 1 license plate, 329.4ms\n",
      "image 58/84 /content/drive/MyDrive/CAPSTONE/images/S__65085489.jpg: 640x480 1 license plate, 339.2ms\n",
      "image 59/84 /content/drive/MyDrive/CAPSTONE/images/S__65085490.jpg: 640x480 1 license plate, 339.6ms\n",
      "image 60/84 /content/drive/MyDrive/CAPSTONE/images/S__65085491.jpg: 640x480 1 license plate, 311.5ms\n",
      "image 61/84 /content/drive/MyDrive/CAPSTONE/images/S__65085492.jpg: 640x480 1 license plate, 354.0ms\n",
      "image 62/84 /content/drive/MyDrive/CAPSTONE/images/S__65085493.jpg: 640x480 1 license plate, 327.6ms\n",
      "image 63/84 /content/drive/MyDrive/CAPSTONE/images/S__65085494.jpg: 640x480 2 license plates, 327.9ms\n",
      "image 64/84 /content/drive/MyDrive/CAPSTONE/images/S__65085496.jpg: 640x480 1 license plate, 319.1ms\n",
      "image 65/84 /content/drive/MyDrive/CAPSTONE/images/S__65085501.jpg: 640x480 1 license plate, 314.1ms\n",
      "image 66/84 /content/drive/MyDrive/CAPSTONE/images/S__65085503.jpg: 640x480 1 license plate, 307.9ms\n",
      "image 67/84 /content/drive/MyDrive/CAPSTONE/images/S__65085504.jpg: 640x480 1 license plate, 316.5ms\n",
      "image 68/84 /content/drive/MyDrive/CAPSTONE/images/S__65085505.jpg: 640x480 2 license plates, 310.9ms\n",
      "image 69/84 /content/drive/MyDrive/CAPSTONE/images/S__65085506.jpg: 640x480 1 license plate, 304.4ms\n",
      "image 70/84 /content/drive/MyDrive/CAPSTONE/images/S__65085507.jpg: 640x480 1 license plate, 323.8ms\n",
      "image 71/84 /content/drive/MyDrive/CAPSTONE/images/S__65085508.jpg: 640x480 1 license plate, 313.9ms\n",
      "image 72/84 /content/drive/MyDrive/CAPSTONE/images/S__65085509.jpg: 640x480 1 license plate, 299.8ms\n",
      "image 73/84 /content/drive/MyDrive/CAPSTONE/images/S__65085510.jpg: 640x480 1 license plate, 303.0ms\n",
      "image 74/84 /content/drive/MyDrive/CAPSTONE/images/S__65110026.jpg: 640x480 1 license plate, 307.8ms\n",
      "image 75/84 /content/drive/MyDrive/CAPSTONE/images/S__65110028.jpg: 640x480 1 license plate, 305.6ms\n",
      "image 76/84 /content/drive/MyDrive/CAPSTONE/images/S__65110029.jpg: 640x480 1 license plate, 306.6ms\n",
      "image 77/84 /content/drive/MyDrive/CAPSTONE/images/S__65110030.jpg: 640x480 1 license plate, 312.0ms\n",
      "image 78/84 /content/drive/MyDrive/CAPSTONE/images/S__65110031.jpg: 640x480 1 license plate, 303.3ms\n",
      "image 79/84 /content/drive/MyDrive/CAPSTONE/images/S__65110032.jpg: 640x480 1 license plate, 310.7ms\n",
      "image 80/84 /content/drive/MyDrive/CAPSTONE/images/S__65118214.jpg: 640x480 1 license plate, 305.6ms\n",
      "image 81/84 /content/drive/MyDrive/CAPSTONE/images/S__65118216.jpg: 640x480 1 license plate, 313.3ms\n",
      "image 82/84 /content/drive/MyDrive/CAPSTONE/images/S__65118217.jpg: 640x480 1 license plate, 313.7ms\n",
      "image 83/84 /content/drive/MyDrive/CAPSTONE/images/S__65126404.jpg: 640x480 1 license plate, 312.2ms\n",
      "image 84/84 /content/drive/MyDrive/CAPSTONE/images/S__65126406.jpg: 640x480 1 license plate, 313.7ms\n",
      "Speed: 1.5ms pre-process, 317.4ms inference, 0.8ms NMS per image at shape (1, 3, 640, 640)\n",
      "Results saved to \u001b[1mruns/detect/exp3\u001b[0m\n"
     ]
    }
   ],
   "source": [
    "!python /content/yolov5/detect.py --weights /content/drive/MyDrive/3_weights/Default_size640/weights/best.pt --img 640 --source /content/drive/MyDrive/CAPSTONE/images"
   ]
  },
  {
   "cell_type": "code",
   "execution_count": 23,
   "metadata": {
    "id": "rW8695y5SeU0"
   },
   "outputs": [],
   "source": [
    "!cp -r /content/yolov5/runs/detect/exp3 /content/drive/MyDrive/3_weights/Default_size640/\n",
    "!cp -r /content/yolov5/runs/val/exp2/ /content/drive/MyDrive/3_weights/Default_size640/\n"
   ]
  },
  {
   "cell_type": "markdown",
   "metadata": {
    "id": "yr9M3L82LZFd"
   },
   "source": [
    "# Imagesize 384"
   ]
  },
  {
   "cell_type": "markdown",
   "metadata": {
    "id": "A3xsokMoVet0"
   },
   "source": [
    "- Val"
   ]
  },
  {
   "cell_type": "code",
   "execution_count": 33,
   "metadata": {
    "colab": {
     "base_uri": "https://localhost:8080/"
    },
    "id": "gaivrraWLZco",
    "outputId": "b65ea410-a6ce-42a7-c0d7-d686e946a771"
   },
   "outputs": [
    {
     "name": "stdout",
     "output_type": "stream",
     "text": [
      "usage: val.py [-h] [--data DATA] [--weights WEIGHTS [WEIGHTS ...]]\n",
      "              [--batch-size BATCH_SIZE] [--imgsz IMGSZ]\n",
      "              [--conf-thres CONF_THRES] [--iou-thres IOU_THRES]\n",
      "              [--max-det MAX_DET] [--task TASK] [--device DEVICE]\n",
      "              [--workers WORKERS] [--single-cls] [--augment] [--verbose]\n",
      "              [--save-txt] [--save-hybrid] [--save-conf] [--save-json]\n",
      "              [--project PROJECT] [--name NAME] [--exist-ok] [--half] [--dnn]\n",
      "val.py: error: argument --task: expected one argument\n"
     ]
    }
   ],
   "source": [
    "!python /content/yolov5/val.py --weights /content/drive/MyDrive/3_weights/size360/weights/best.pt  --data /content/yolov5/custom.yaml --img 384 --augment --task"
   ]
  },
  {
   "cell_type": "markdown",
   "metadata": {
    "id": "-szZ-YNfVgsz"
   },
   "source": [
    "- Inference"
   ]
  },
  {
   "cell_type": "code",
   "execution_count": 25,
   "metadata": {
    "colab": {
     "base_uri": "https://localhost:8080/"
    },
    "id": "c--CUS7-ViTq",
    "outputId": "fa491bc1-17da-4f59-ac85-e60084af96fa"
   },
   "outputs": [
    {
     "name": "stdout",
     "output_type": "stream",
     "text": [
      "\u001b[34m\u001b[1mdetect: \u001b[0mweights=['/content/drive/MyDrive/3_weights/size360/weights/best.pt'], source=/content/drive/MyDrive/CAPSTONE/images, data=data/coco128.yaml, imgsz=[384, 384], conf_thres=0.25, iou_thres=0.45, max_det=1000, device=, view_img=False, save_txt=False, save_conf=False, save_crop=False, nosave=False, classes=None, agnostic_nms=False, augment=False, visualize=False, update=False, project=runs/detect, name=exp, exist_ok=False, line_thickness=3, hide_labels=False, hide_conf=False, half=False, dnn=False, vid_stride=1\n",
      "YOLOv5 🚀 v6.2-245-g9057510 Python-3.7.15 torch-1.12.1+cu113 CPU\n",
      "\n",
      "Fusing layers... \n",
      "Model summary: 157 layers, 7012822 parameters, 0 gradients, 15.8 GFLOPs\n",
      "image 1/84 /content/drive/MyDrive/CAPSTONE/images/1A938B5E-FCA0-4B5A-9155-1E4EC26D496F.jpg: 384x288 1 license plate, 141.7ms\n",
      "image 2/84 /content/drive/MyDrive/CAPSTONE/images/312493403_903901370595857_2506180199714023189_n.jpg: 288x384 1 license plate, 135.1ms\n",
      "image 3/84 /content/drive/MyDrive/CAPSTONE/images/313716762_5070109693091232_1204559964551146962_n.jpg: 256x384 1 license plate, 131.3ms\n",
      "image 4/84 /content/drive/MyDrive/CAPSTONE/images/314525103_895153225196812_7014652717854055588_n.jpg: 288x384 1 license plate, 126.6ms\n",
      "image 5/84 /content/drive/MyDrive/CAPSTONE/images/314590065_882451159584639_3416671258954966713_n.jpg: 320x384 1 license plate, 148.0ms\n",
      "image 6/84 /content/drive/MyDrive/CAPSTONE/images/314606720_1288764025280635_6219434079830678653_n.jpg: 288x384 1 license plate, 122.9ms\n",
      "image 7/84 /content/drive/MyDrive/CAPSTONE/images/314613162_512389200904894_2229814920629415842_n.jpg: 288x384 2 license plates, 123.1ms\n",
      "image 8/84 /content/drive/MyDrive/CAPSTONE/images/314663714_653506702896479_3236375469855944224_n.webp: 288x384 1 license plate, 118.7ms\n",
      "image 9/84 /content/drive/MyDrive/CAPSTONE/images/314672525_1351235182370773_7672486272300660718_n.jpg: 320x384 1 license plate, 135.3ms\n",
      "image 10/84 /content/drive/MyDrive/CAPSTONE/images/314689317_618977873343968_2345485700038734625_n.jpg: 288x384 1 license plate, 121.1ms\n",
      "image 11/84 /content/drive/MyDrive/CAPSTONE/images/314714962_236517408725938_2006792105257369366_n.jpg: 288x384 1 license plate, 124.4ms\n",
      "image 12/84 /content/drive/MyDrive/CAPSTONE/images/314776745_1074584773213591_5281841184447624918_n.jpg: 320x384 1 license plate, 146.2ms\n",
      "image 13/84 /content/drive/MyDrive/CAPSTONE/images/314814683_838879320639599_5619724239676057522_n.jpg: 288x384 1 license plate, 114.7ms\n",
      "image 14/84 /content/drive/MyDrive/CAPSTONE/images/314851697_805336163856118_9065190787695731514_n.jpg: 320x384 1 license plate, 137.8ms\n",
      "image 15/84 /content/drive/MyDrive/CAPSTONE/images/314858918_826063335267920_249437641828861897_n.jpg: 288x384 1 license plate, 127.8ms\n",
      "image 16/84 /content/drive/MyDrive/CAPSTONE/images/314867996_129961339854516_7255043794685098635_n.webp: 384x384 1 license plate, 165.3ms\n",
      "image 17/84 /content/drive/MyDrive/CAPSTONE/images/314910394_422016973284020_7942120062144552414_n.webp: 288x384 1 license plate, 145.6ms\n",
      "image 18/84 /content/drive/MyDrive/CAPSTONE/images/314913461_162637219794772_31200607822189544_n.jpg: 288x384 1 license plate, 118.7ms\n",
      "image 19/84 /content/drive/MyDrive/CAPSTONE/images/314920455_1585681255216695_6956969436455171306_n.webp: 320x384 1 license plate, 146.7ms\n",
      "image 20/84 /content/drive/MyDrive/CAPSTONE/images/314922018_198353459327633_8897536487609198652_n.jpg: 288x384 1 license plate, 122.7ms\n",
      "image 21/84 /content/drive/MyDrive/CAPSTONE/images/314924488_184804274092282_5140518568296132823_n.jpg: 288x384 1 license plate, 119.8ms\n",
      "image 22/84 /content/drive/MyDrive/CAPSTONE/images/314927999_5402095556582730_7418547219284206692_n.jpg: 288x384 1 license plate, 123.8ms\n",
      "image 23/84 /content/drive/MyDrive/CAPSTONE/images/314929761_3069594456520012_5177594339745214395_n.jpg: 256x384 1 license plate, 114.4ms\n",
      "image 24/84 /content/drive/MyDrive/CAPSTONE/images/315011259_900942750897300_3233034524543049884_n.jpg: 288x384 1 license plate, 120.1ms\n",
      "image 25/84 /content/drive/MyDrive/CAPSTONE/images/315147715_3012964972334750_7497911580481789799_n.jpg: 288x384 1 license plate, 130.4ms\n",
      "image 26/84 /content/drive/MyDrive/CAPSTONE/images/315203410_422370163437341_1117315966302147771_n.jpg: 288x384 1 license plate, 115.7ms\n",
      "image 27/84 /content/drive/MyDrive/CAPSTONE/images/315231747_188751336994374_4938931236546430515_n.jpg: 256x384 1 license plate, 107.7ms\n",
      "image 28/84 /content/drive/MyDrive/CAPSTONE/images/5AC7D43F-1826-472C-A1C6-C24023110111.jpg: 384x224 2 license plates, 105.9ms\n",
      "image 29/84 /content/drive/MyDrive/CAPSTONE/images/7916BD0F-F735-4161-9CA3-62C43F47074D.jpg: 384x288 1 license plate, 119.9ms\n",
      "image 30/84 /content/drive/MyDrive/CAPSTONE/images/860AA50D-5E90-4623-8385-BEFDC706ECAF.jpg: 384x288 1 license plate, 126.0ms\n",
      "image 31/84 /content/drive/MyDrive/CAPSTONE/images/IMG_5302.jpg: 288x384 1 license plate, 115.9ms\n",
      "image 32/84 /content/drive/MyDrive/CAPSTONE/images/IMG_5304.jpg: 288x384 1 license plate, 121.4ms\n",
      "image 33/84 /content/drive/MyDrive/CAPSTONE/images/IMG_5306.jpg: 384x288 2 license plates, 120.2ms\n",
      "image 34/84 /content/drive/MyDrive/CAPSTONE/images/IMG_5308.jpg: 384x288 1 license plate, 124.4ms\n",
      "image 35/84 /content/drive/MyDrive/CAPSTONE/images/IMG_5310.jpg: 384x288 1 license plate, 118.0ms\n",
      "image 36/84 /content/drive/MyDrive/CAPSTONE/images/IMG_5311.jpg: 384x288 1 license plate, 123.2ms\n",
      "image 37/84 /content/drive/MyDrive/CAPSTONE/images/IMG_5312.jpg: 384x288 1 license plate, 125.8ms\n",
      "image 38/84 /content/drive/MyDrive/CAPSTONE/images/IMG_5313.jpg: 384x288 1 license plate, 121.4ms\n",
      "image 39/84 /content/drive/MyDrive/CAPSTONE/images/IMG_5314.jpg: 384x288 (no detections), 119.0ms\n",
      "image 40/84 /content/drive/MyDrive/CAPSTONE/images/IMG_5315.jpg: 384x288 1 license plate, 125.6ms\n",
      "image 41/84 /content/drive/MyDrive/CAPSTONE/images/IMG_5316.jpg: 384x288 1 license plate, 132.1ms\n",
      "image 42/84 /content/drive/MyDrive/CAPSTONE/images/IMG_5317.jpg: 384x288 1 license plate, 128.2ms\n",
      "image 43/84 /content/drive/MyDrive/CAPSTONE/images/IMG_5318.jpg: 384x288 1 license plate, 128.9ms\n",
      "image 44/84 /content/drive/MyDrive/CAPSTONE/images/IMG_5319.jpg: 384x288 1 license plate, 119.2ms\n",
      "image 45/84 /content/drive/MyDrive/CAPSTONE/images/IMG_5320.jpg: 384x288 (no detections), 122.3ms\n",
      "image 46/84 /content/drive/MyDrive/CAPSTONE/images/IMG_5322.jpg: 384x288 1 license plate, 122.3ms\n",
      "image 47/84 /content/drive/MyDrive/CAPSTONE/images/IMG_5324.jpg: 384x288 1 license plate, 127.1ms\n",
      "image 48/84 /content/drive/MyDrive/CAPSTONE/images/IMG_5325.jpg: 384x288 (no detections), 124.6ms\n",
      "image 49/84 /content/drive/MyDrive/CAPSTONE/images/IMG_5326.jpg: 384x288 1 license plate, 131.4ms\n",
      "image 50/84 /content/drive/MyDrive/CAPSTONE/images/IMG_5327.jpg: 384x288 1 license plate, 120.9ms\n",
      "image 51/84 /content/drive/MyDrive/CAPSTONE/images/S__65085455.jpg: 288x384 1 license plate, 120.8ms\n",
      "image 52/84 /content/drive/MyDrive/CAPSTONE/images/S__65085466.jpg: 288x384 1 license plate, 136.9ms\n",
      "image 53/84 /content/drive/MyDrive/CAPSTONE/images/S__65085483.jpg: 288x384 1 license plate, 128.1ms\n",
      "image 54/84 /content/drive/MyDrive/CAPSTONE/images/S__65085485.jpg: 384x288 1 license plate, 122.9ms\n",
      "image 55/84 /content/drive/MyDrive/CAPSTONE/images/S__65085486.jpg: 384x288 1 license plate, 118.8ms\n",
      "image 56/84 /content/drive/MyDrive/CAPSTONE/images/S__65085487.jpg: 384x288 2 license plates, 121.7ms\n",
      "image 57/84 /content/drive/MyDrive/CAPSTONE/images/S__65085488.jpg: 384x288 1 license plate, 123.3ms\n",
      "image 58/84 /content/drive/MyDrive/CAPSTONE/images/S__65085489.jpg: 384x288 1 license plate, 124.7ms\n",
      "image 59/84 /content/drive/MyDrive/CAPSTONE/images/S__65085490.jpg: 384x288 1 license plate, 113.5ms\n",
      "image 60/84 /content/drive/MyDrive/CAPSTONE/images/S__65085491.jpg: 384x288 1 license plate, 116.9ms\n",
      "image 61/84 /content/drive/MyDrive/CAPSTONE/images/S__65085492.jpg: 384x288 1 license plate, 125.3ms\n",
      "image 62/84 /content/drive/MyDrive/CAPSTONE/images/S__65085493.jpg: 384x288 1 license plate, 124.0ms\n",
      "image 63/84 /content/drive/MyDrive/CAPSTONE/images/S__65085494.jpg: 384x288 2 license plates, 136.9ms\n",
      "image 64/84 /content/drive/MyDrive/CAPSTONE/images/S__65085496.jpg: 384x288 1 license plate, 128.0ms\n",
      "image 65/84 /content/drive/MyDrive/CAPSTONE/images/S__65085501.jpg: 384x288 1 license plate, 144.0ms\n",
      "image 66/84 /content/drive/MyDrive/CAPSTONE/images/S__65085503.jpg: 384x288 2 license plates, 120.0ms\n",
      "image 67/84 /content/drive/MyDrive/CAPSTONE/images/S__65085504.jpg: 384x288 1 license plate, 135.2ms\n",
      "image 68/84 /content/drive/MyDrive/CAPSTONE/images/S__65085505.jpg: 384x288 1 license plate, 122.5ms\n",
      "image 69/84 /content/drive/MyDrive/CAPSTONE/images/S__65085506.jpg: 384x288 1 license plate, 126.7ms\n",
      "image 70/84 /content/drive/MyDrive/CAPSTONE/images/S__65085507.jpg: 384x288 1 license plate, 130.5ms\n",
      "image 71/84 /content/drive/MyDrive/CAPSTONE/images/S__65085508.jpg: 384x288 1 license plate, 126.8ms\n",
      "image 72/84 /content/drive/MyDrive/CAPSTONE/images/S__65085509.jpg: 384x288 1 license plate, 123.1ms\n",
      "image 73/84 /content/drive/MyDrive/CAPSTONE/images/S__65085510.jpg: 384x288 1 license plate, 130.2ms\n",
      "image 74/84 /content/drive/MyDrive/CAPSTONE/images/S__65110026.jpg: 384x288 1 license plate, 130.9ms\n",
      "image 75/84 /content/drive/MyDrive/CAPSTONE/images/S__65110028.jpg: 384x288 (no detections), 132.2ms\n",
      "image 76/84 /content/drive/MyDrive/CAPSTONE/images/S__65110029.jpg: 384x288 1 license plate, 124.2ms\n",
      "image 77/84 /content/drive/MyDrive/CAPSTONE/images/S__65110030.jpg: 384x288 1 license plate, 119.7ms\n",
      "image 78/84 /content/drive/MyDrive/CAPSTONE/images/S__65110031.jpg: 384x288 1 license plate, 119.4ms\n",
      "image 79/84 /content/drive/MyDrive/CAPSTONE/images/S__65110032.jpg: 384x288 1 license plate, 124.6ms\n",
      "image 80/84 /content/drive/MyDrive/CAPSTONE/images/S__65118214.jpg: 384x288 1 license plate, 123.8ms\n",
      "image 81/84 /content/drive/MyDrive/CAPSTONE/images/S__65118216.jpg: 384x288 1 license plate, 135.1ms\n",
      "image 82/84 /content/drive/MyDrive/CAPSTONE/images/S__65118217.jpg: 384x288 1 license plate, 128.9ms\n",
      "image 83/84 /content/drive/MyDrive/CAPSTONE/images/S__65126404.jpg: 384x288 1 license plate, 129.9ms\n",
      "image 84/84 /content/drive/MyDrive/CAPSTONE/images/S__65126406.jpg: 384x288 1 license plate, 135.1ms\n",
      "Speed: 0.7ms pre-process, 126.4ms inference, 0.7ms NMS per image at shape (1, 3, 384, 384)\n",
      "Results saved to \u001b[1mruns/detect/exp4\u001b[0m\n"
     ]
    }
   ],
   "source": [
    "!python /content/yolov5/detect.py --weights /content/drive/MyDrive/3_weights/size360/weights/best.pt --img 384 --source /content/drive/MyDrive/CAPSTONE/images"
   ]
  },
  {
   "cell_type": "code",
   "execution_count": 26,
   "metadata": {
    "id": "hIsd_8j6Vw42"
   },
   "outputs": [],
   "source": [
    "!cp -r /content/yolov5/runs/detect/exp4 /content/drive/MyDrive/3_weights/size360/\n",
    "!cp -r /content/yolov5/runs/val/exp3 /content/drive/MyDrive/3_weights/size360/\n"
   ]
  },
  {
   "cell_type": "markdown",
   "metadata": {
    "id": "Bi1IQ_GhLZrH"
   },
   "source": [
    "# Imagesize 384 + Tune"
   ]
  },
  {
   "cell_type": "markdown",
   "metadata": {},
   "source": [
    "- Val"
   ]
  },
  {
   "cell_type": "code",
   "execution_count": 28,
   "metadata": {
    "colab": {
     "base_uri": "https://localhost:8080/"
    },
    "id": "PLxjCIrcMZgU",
    "outputId": "3c18a241-ad00-4884-a4c4-dec443ccf80f"
   },
   "outputs": [
    {
     "name": "stdout",
     "output_type": "stream",
     "text": [
      "\u001b[34m\u001b[1mval: \u001b[0mdata=/content/yolov5/custom.yaml, weights=['/content/drive/MyDrive/3_weights/tunesize360/tunesize360/weights/best.pt'], batch_size=32, imgsz=384, conf_thres=0.001, iou_thres=0.6, max_det=300, task=val, device=, workers=8, single_cls=False, augment=True, verbose=False, save_txt=False, save_hybrid=False, save_conf=False, save_json=False, project=runs/val, name=exp, exist_ok=False, half=False, dnn=False\n",
      "YOLOv5 🚀 v6.2-245-g9057510 Python-3.7.15 torch-1.12.1+cu113 CPU\n",
      "\n",
      "Fusing layers... \n",
      "Model summary: 157 layers, 7012822 parameters, 0 gradients, 15.8 GFLOPs\n",
      "\u001b[34m\u001b[1mval: \u001b[0mScanning '/content/yolov5/dataset/val.cache' images and labels... 100 found, 0 missing, 0 empty, 0 corrupt: 100% 100/100 [00:00<?, ?it/s]\n",
      "                 Class     Images  Instances          P          R      mAP50   mAP50-95: 100% 4/4 [00:37<00:00,  9.26s/it]\n",
      "                   all        100        100       0.99      0.986      0.993      0.668\n",
      "Speed: 3.1ms pre-process, 357.8ms inference, 0.7ms NMS per image at shape (32, 3, 384, 384)\n",
      "Results saved to \u001b[1mruns/val/exp5\u001b[0m\n"
     ]
    }
   ],
   "source": [
    "!python /content/yolov5/val.py --weights /content/drive/MyDrive/3_weights/tunesize360/tunesize360/weights/best.pt  --data /content/yolov5/custom.yaml --img 384 --augment "
   ]
  },
  {
   "cell_type": "markdown",
   "metadata": {},
   "source": [
    "- Inference"
   ]
  },
  {
   "cell_type": "code",
   "execution_count": 29,
   "metadata": {
    "colab": {
     "base_uri": "https://localhost:8080/"
    },
    "id": "ZvswE4OkVqRz",
    "outputId": "cd46de53-7dde-49d7-db61-c5bf87878b64"
   },
   "outputs": [
    {
     "name": "stdout",
     "output_type": "stream",
     "text": [
      "\u001b[34m\u001b[1mdetect: \u001b[0mweights=['/content/drive/MyDrive/3_weights/tunesize360/tunesize360/weights/best.pt'], source=/content/drive/MyDrive/CAPSTONE/images, data=data/coco128.yaml, imgsz=[384, 384], conf_thres=0.25, iou_thres=0.45, max_det=1000, device=, view_img=False, save_txt=False, save_conf=False, save_crop=False, nosave=False, classes=None, agnostic_nms=False, augment=False, visualize=False, update=False, project=runs/detect, name=exp, exist_ok=False, line_thickness=3, hide_labels=False, hide_conf=False, half=False, dnn=False, vid_stride=1\n",
      "YOLOv5 🚀 v6.2-245-g9057510 Python-3.7.15 torch-1.12.1+cu113 CPU\n",
      "\n",
      "Fusing layers... \n",
      "Model summary: 157 layers, 7012822 parameters, 0 gradients, 15.8 GFLOPs\n",
      "image 1/84 /content/drive/MyDrive/CAPSTONE/images/1A938B5E-FCA0-4B5A-9155-1E4EC26D496F.jpg: 384x288 1 license plate, 139.3ms\n",
      "image 2/84 /content/drive/MyDrive/CAPSTONE/images/312493403_903901370595857_2506180199714023189_n.jpg: 288x384 1 license plate, 123.0ms\n",
      "image 3/84 /content/drive/MyDrive/CAPSTONE/images/313716762_5070109693091232_1204559964551146962_n.jpg: 256x384 1 license plate, 112.9ms\n",
      "image 4/84 /content/drive/MyDrive/CAPSTONE/images/314525103_895153225196812_7014652717854055588_n.jpg: 288x384 1 license plate, 117.4ms\n",
      "image 5/84 /content/drive/MyDrive/CAPSTONE/images/314590065_882451159584639_3416671258954966713_n.jpg: 320x384 1 license plate, 130.0ms\n",
      "image 6/84 /content/drive/MyDrive/CAPSTONE/images/314606720_1288764025280635_6219434079830678653_n.jpg: 288x384 1 license plate, 121.0ms\n",
      "image 7/84 /content/drive/MyDrive/CAPSTONE/images/314613162_512389200904894_2229814920629415842_n.jpg: 288x384 2 license plates, 121.7ms\n",
      "image 8/84 /content/drive/MyDrive/CAPSTONE/images/314663714_653506702896479_3236375469855944224_n.webp: 288x384 1 license plate, 122.6ms\n",
      "image 9/84 /content/drive/MyDrive/CAPSTONE/images/314672525_1351235182370773_7672486272300660718_n.jpg: 320x384 1 license plate, 134.5ms\n",
      "image 10/84 /content/drive/MyDrive/CAPSTONE/images/314689317_618977873343968_2345485700038734625_n.jpg: 288x384 1 license plate, 123.8ms\n",
      "image 11/84 /content/drive/MyDrive/CAPSTONE/images/314714962_236517408725938_2006792105257369366_n.jpg: 288x384 1 license plate, 130.0ms\n",
      "image 12/84 /content/drive/MyDrive/CAPSTONE/images/314776745_1074584773213591_5281841184447624918_n.jpg: 320x384 2 license plates, 131.2ms\n",
      "image 13/84 /content/drive/MyDrive/CAPSTONE/images/314814683_838879320639599_5619724239676057522_n.jpg: 288x384 1 license plate, 123.1ms\n",
      "image 14/84 /content/drive/MyDrive/CAPSTONE/images/314851697_805336163856118_9065190787695731514_n.jpg: 320x384 1 license plate, 134.4ms\n",
      "image 15/84 /content/drive/MyDrive/CAPSTONE/images/314858918_826063335267920_249437641828861897_n.jpg: 288x384 1 license plate, 116.4ms\n",
      "image 16/84 /content/drive/MyDrive/CAPSTONE/images/314867996_129961339854516_7255043794685098635_n.webp: 384x384 1 license plate, 162.0ms\n",
      "image 17/84 /content/drive/MyDrive/CAPSTONE/images/314910394_422016973284020_7942120062144552414_n.webp: 288x384 1 license plate, 116.6ms\n",
      "image 18/84 /content/drive/MyDrive/CAPSTONE/images/314913461_162637219794772_31200607822189544_n.jpg: 288x384 1 license plate, 129.2ms\n",
      "image 19/84 /content/drive/MyDrive/CAPSTONE/images/314920455_1585681255216695_6956969436455171306_n.webp: 320x384 1 license plate, 130.8ms\n",
      "image 20/84 /content/drive/MyDrive/CAPSTONE/images/314922018_198353459327633_8897536487609198652_n.jpg: 288x384 1 license plate, 118.7ms\n",
      "image 21/84 /content/drive/MyDrive/CAPSTONE/images/314924488_184804274092282_5140518568296132823_n.jpg: 288x384 1 license plate, 129.0ms\n",
      "image 22/84 /content/drive/MyDrive/CAPSTONE/images/314927999_5402095556582730_7418547219284206692_n.jpg: 288x384 1 license plate, 118.0ms\n",
      "image 23/84 /content/drive/MyDrive/CAPSTONE/images/314929761_3069594456520012_5177594339745214395_n.jpg: 256x384 1 license plate, 123.5ms\n",
      "image 24/84 /content/drive/MyDrive/CAPSTONE/images/315011259_900942750897300_3233034524543049884_n.jpg: 288x384 1 license plate, 122.7ms\n",
      "image 25/84 /content/drive/MyDrive/CAPSTONE/images/315147715_3012964972334750_7497911580481789799_n.jpg: 288x384 1 license plate, 127.6ms\n",
      "image 26/84 /content/drive/MyDrive/CAPSTONE/images/315203410_422370163437341_1117315966302147771_n.jpg: 288x384 2 license plates, 114.0ms\n",
      "image 27/84 /content/drive/MyDrive/CAPSTONE/images/315231747_188751336994374_4938931236546430515_n.jpg: 256x384 1 license plate, 111.9ms\n",
      "image 28/84 /content/drive/MyDrive/CAPSTONE/images/5AC7D43F-1826-472C-A1C6-C24023110111.jpg: 384x224 3 license plates, 117.0ms\n",
      "image 29/84 /content/drive/MyDrive/CAPSTONE/images/7916BD0F-F735-4161-9CA3-62C43F47074D.jpg: 384x288 2 license plates, 121.0ms\n",
      "image 30/84 /content/drive/MyDrive/CAPSTONE/images/860AA50D-5E90-4623-8385-BEFDC706ECAF.jpg: 384x288 1 license plate, 128.9ms\n",
      "image 31/84 /content/drive/MyDrive/CAPSTONE/images/IMG_5302.jpg: 288x384 1 license plate, 153.7ms\n",
      "image 32/84 /content/drive/MyDrive/CAPSTONE/images/IMG_5304.jpg: 288x384 1 license plate, 131.0ms\n",
      "image 33/84 /content/drive/MyDrive/CAPSTONE/images/IMG_5306.jpg: 384x288 1 license plate, 119.6ms\n",
      "image 34/84 /content/drive/MyDrive/CAPSTONE/images/IMG_5308.jpg: 384x288 1 license plate, 121.2ms\n",
      "image 35/84 /content/drive/MyDrive/CAPSTONE/images/IMG_5310.jpg: 384x288 1 license plate, 119.1ms\n",
      "image 36/84 /content/drive/MyDrive/CAPSTONE/images/IMG_5311.jpg: 384x288 1 license plate, 119.3ms\n",
      "image 37/84 /content/drive/MyDrive/CAPSTONE/images/IMG_5312.jpg: 384x288 1 license plate, 123.2ms\n",
      "image 38/84 /content/drive/MyDrive/CAPSTONE/images/IMG_5313.jpg: 384x288 1 license plate, 127.8ms\n",
      "image 39/84 /content/drive/MyDrive/CAPSTONE/images/IMG_5314.jpg: 384x288 1 license plate, 139.8ms\n",
      "image 40/84 /content/drive/MyDrive/CAPSTONE/images/IMG_5315.jpg: 384x288 1 license plate, 125.4ms\n",
      "image 41/84 /content/drive/MyDrive/CAPSTONE/images/IMG_5316.jpg: 384x288 1 license plate, 134.4ms\n",
      "image 42/84 /content/drive/MyDrive/CAPSTONE/images/IMG_5317.jpg: 384x288 1 license plate, 123.4ms\n",
      "image 43/84 /content/drive/MyDrive/CAPSTONE/images/IMG_5318.jpg: 384x288 1 license plate, 127.8ms\n",
      "image 44/84 /content/drive/MyDrive/CAPSTONE/images/IMG_5319.jpg: 384x288 1 license plate, 122.7ms\n",
      "image 45/84 /content/drive/MyDrive/CAPSTONE/images/IMG_5320.jpg: 384x288 (no detections), 127.6ms\n",
      "image 46/84 /content/drive/MyDrive/CAPSTONE/images/IMG_5322.jpg: 384x288 1 license plate, 128.7ms\n",
      "image 47/84 /content/drive/MyDrive/CAPSTONE/images/IMG_5324.jpg: 384x288 1 license plate, 137.7ms\n",
      "image 48/84 /content/drive/MyDrive/CAPSTONE/images/IMG_5325.jpg: 384x288 1 license plate, 123.9ms\n",
      "image 49/84 /content/drive/MyDrive/CAPSTONE/images/IMG_5326.jpg: 384x288 1 license plate, 119.5ms\n",
      "image 50/84 /content/drive/MyDrive/CAPSTONE/images/IMG_5327.jpg: 384x288 1 license plate, 121.7ms\n",
      "image 51/84 /content/drive/MyDrive/CAPSTONE/images/S__65085455.jpg: 288x384 1 license plate, 124.4ms\n",
      "image 52/84 /content/drive/MyDrive/CAPSTONE/images/S__65085466.jpg: 288x384 1 license plate, 128.5ms\n",
      "image 53/84 /content/drive/MyDrive/CAPSTONE/images/S__65085483.jpg: 288x384 1 license plate, 122.9ms\n",
      "image 54/84 /content/drive/MyDrive/CAPSTONE/images/S__65085485.jpg: 384x288 1 license plate, 123.7ms\n",
      "image 55/84 /content/drive/MyDrive/CAPSTONE/images/S__65085486.jpg: 384x288 1 license plate, 127.6ms\n",
      "image 56/84 /content/drive/MyDrive/CAPSTONE/images/S__65085487.jpg: 384x288 1 license plate, 123.9ms\n",
      "image 57/84 /content/drive/MyDrive/CAPSTONE/images/S__65085488.jpg: 384x288 1 license plate, 130.1ms\n",
      "image 58/84 /content/drive/MyDrive/CAPSTONE/images/S__65085489.jpg: 384x288 1 license plate, 125.1ms\n",
      "image 59/84 /content/drive/MyDrive/CAPSTONE/images/S__65085490.jpg: 384x288 1 license plate, 123.9ms\n",
      "image 60/84 /content/drive/MyDrive/CAPSTONE/images/S__65085491.jpg: 384x288 1 license plate, 123.2ms\n",
      "image 61/84 /content/drive/MyDrive/CAPSTONE/images/S__65085492.jpg: 384x288 1 license plate, 124.4ms\n",
      "image 62/84 /content/drive/MyDrive/CAPSTONE/images/S__65085493.jpg: 384x288 1 license plate, 122.8ms\n",
      "image 63/84 /content/drive/MyDrive/CAPSTONE/images/S__65085494.jpg: 384x288 2 license plates, 135.0ms\n",
      "image 64/84 /content/drive/MyDrive/CAPSTONE/images/S__65085496.jpg: 384x288 1 license plate, 120.9ms\n",
      "image 65/84 /content/drive/MyDrive/CAPSTONE/images/S__65085501.jpg: 384x288 1 license plate, 128.2ms\n",
      "image 66/84 /content/drive/MyDrive/CAPSTONE/images/S__65085503.jpg: 384x288 2 license plates, 130.3ms\n",
      "image 67/84 /content/drive/MyDrive/CAPSTONE/images/S__65085504.jpg: 384x288 2 license plates, 125.3ms\n",
      "image 68/84 /content/drive/MyDrive/CAPSTONE/images/S__65085505.jpg: 384x288 2 license plates, 137.6ms\n",
      "image 69/84 /content/drive/MyDrive/CAPSTONE/images/S__65085506.jpg: 384x288 1 license plate, 121.2ms\n",
      "image 70/84 /content/drive/MyDrive/CAPSTONE/images/S__65085507.jpg: 384x288 1 license plate, 128.1ms\n",
      "image 71/84 /content/drive/MyDrive/CAPSTONE/images/S__65085508.jpg: 384x288 1 license plate, 125.8ms\n",
      "image 72/84 /content/drive/MyDrive/CAPSTONE/images/S__65085509.jpg: 384x288 1 license plate, 134.5ms\n",
      "image 73/84 /content/drive/MyDrive/CAPSTONE/images/S__65085510.jpg: 384x288 1 license plate, 130.5ms\n",
      "image 74/84 /content/drive/MyDrive/CAPSTONE/images/S__65110026.jpg: 384x288 1 license plate, 119.7ms\n",
      "image 75/84 /content/drive/MyDrive/CAPSTONE/images/S__65110028.jpg: 384x288 1 license plate, 128.1ms\n",
      "image 76/84 /content/drive/MyDrive/CAPSTONE/images/S__65110029.jpg: 384x288 1 license plate, 133.0ms\n",
      "image 77/84 /content/drive/MyDrive/CAPSTONE/images/S__65110030.jpg: 384x288 1 license plate, 127.9ms\n",
      "image 78/84 /content/drive/MyDrive/CAPSTONE/images/S__65110031.jpg: 384x288 1 license plate, 150.8ms\n",
      "image 79/84 /content/drive/MyDrive/CAPSTONE/images/S__65110032.jpg: 384x288 1 license plate, 147.2ms\n",
      "image 80/84 /content/drive/MyDrive/CAPSTONE/images/S__65118214.jpg: 384x288 1 license plate, 123.7ms\n",
      "image 81/84 /content/drive/MyDrive/CAPSTONE/images/S__65118216.jpg: 384x288 1 license plate, 121.4ms\n",
      "image 82/84 /content/drive/MyDrive/CAPSTONE/images/S__65118217.jpg: 384x288 1 license plate, 125.9ms\n",
      "image 83/84 /content/drive/MyDrive/CAPSTONE/images/S__65126404.jpg: 384x288 1 license plate, 119.4ms\n",
      "image 84/84 /content/drive/MyDrive/CAPSTONE/images/S__65126406.jpg: 384x288 1 license plate, 129.9ms\n",
      "Speed: 0.6ms pre-process, 126.7ms inference, 0.7ms NMS per image at shape (1, 3, 384, 384)\n",
      "Results saved to \u001b[1mruns/detect/exp5\u001b[0m\n"
     ]
    }
   ],
   "source": [
    "!python /content/yolov5/detect.py --weights /content/drive/MyDrive/3_weights/tunesize360/tunesize360/weights/best.pt --img 384 --source /content/drive/MyDrive/CAPSTONE/images"
   ]
  },
  {
   "cell_type": "code",
   "execution_count": 32,
   "metadata": {
    "id": "6S5BsJICVqGV"
   },
   "outputs": [],
   "source": [
    "!cp -r /content/yolov5/runs/detect/exp5 /content/drive/MyDrive/3_weights/tunesize360/detect\n",
    "!cp -r /content/yolov5/runs/val/exp5/ /content/drive/MyDrive/3_weights/tunesize360/val\n"
   ]
  },
  {
   "cell_type": "markdown",
   "metadata": {},
   "source": [
    "# Evaluate the loss_function of model image size 384"
   ]
  },
  {
   "cell_type": "code",
   "execution_count": 35,
   "metadata": {
    "colab": {
     "base_uri": "https://localhost:8080/",
     "height": 270
    },
    "id": "MsO1cFKAWzDy",
    "outputId": "4ad6cbec-4e2c-41ec-b75d-67a341ac2eeb"
   },
   "outputs": [
    {
     "data": {
      "text/html": [
       "\n",
       "  <div id=\"df-2463d60e-ed22-4fa3-bdfe-c5df47e479bf\">\n",
       "    <div class=\"colab-df-container\">\n",
       "      <div>\n",
       "<style scoped>\n",
       "    .dataframe tbody tr th:only-of-type {\n",
       "        vertical-align: middle;\n",
       "    }\n",
       "\n",
       "    .dataframe tbody tr th {\n",
       "        vertical-align: top;\n",
       "    }\n",
       "\n",
       "    .dataframe thead th {\n",
       "        text-align: right;\n",
       "    }\n",
       "</style>\n",
       "<table border=\"1\" class=\"dataframe\">\n",
       "  <thead>\n",
       "    <tr style=\"text-align: right;\">\n",
       "      <th></th>\n",
       "      <th>epoch</th>\n",
       "      <th>train/box_loss</th>\n",
       "      <th>train/obj_loss</th>\n",
       "      <th>train/cls_loss</th>\n",
       "      <th>metrics/precision</th>\n",
       "      <th>metrics/recall</th>\n",
       "      <th>metrics/mAP_0.5</th>\n",
       "      <th>metrics/mAP_0.5:0.95</th>\n",
       "      <th>val/box_loss</th>\n",
       "      <th>val/obj_loss</th>\n",
       "      <th>val/cls_loss</th>\n",
       "      <th>x/lr0</th>\n",
       "      <th>x/lr1</th>\n",
       "      <th>x/lr2</th>\n",
       "    </tr>\n",
       "  </thead>\n",
       "  <tbody>\n",
       "    <tr>\n",
       "      <th>0</th>\n",
       "      <td>0</td>\n",
       "      <td>0.103660</td>\n",
       "      <td>0.016362</td>\n",
       "      <td>0</td>\n",
       "      <td>0.50133</td>\n",
       "      <td>0.19104</td>\n",
       "      <td>0.23911</td>\n",
       "      <td>0.064793</td>\n",
       "      <td>0.078201</td>\n",
       "      <td>0.009138</td>\n",
       "      <td>0</td>\n",
       "      <td>0.070448</td>\n",
       "      <td>0.003284</td>\n",
       "      <td>0.003284</td>\n",
       "    </tr>\n",
       "    <tr>\n",
       "      <th>1</th>\n",
       "      <td>1</td>\n",
       "      <td>0.070789</td>\n",
       "      <td>0.017180</td>\n",
       "      <td>0</td>\n",
       "      <td>0.31527</td>\n",
       "      <td>0.48000</td>\n",
       "      <td>0.23636</td>\n",
       "      <td>0.053405</td>\n",
       "      <td>0.067916</td>\n",
       "      <td>0.006766</td>\n",
       "      <td>0</td>\n",
       "      <td>0.040422</td>\n",
       "      <td>0.006591</td>\n",
       "      <td>0.006591</td>\n",
       "    </tr>\n",
       "    <tr>\n",
       "      <th>2</th>\n",
       "      <td>2</td>\n",
       "      <td>0.058244</td>\n",
       "      <td>0.015622</td>\n",
       "      <td>0</td>\n",
       "      <td>0.49477</td>\n",
       "      <td>0.61000</td>\n",
       "      <td>0.44051</td>\n",
       "      <td>0.183610</td>\n",
       "      <td>0.053835</td>\n",
       "      <td>0.006035</td>\n",
       "      <td>0</td>\n",
       "      <td>0.010369</td>\n",
       "      <td>0.009871</td>\n",
       "      <td>0.009871</td>\n",
       "    </tr>\n",
       "    <tr>\n",
       "      <th>3</th>\n",
       "      <td>3</td>\n",
       "      <td>0.051925</td>\n",
       "      <td>0.014235</td>\n",
       "      <td>0</td>\n",
       "      <td>0.79260</td>\n",
       "      <td>0.70000</td>\n",
       "      <td>0.75299</td>\n",
       "      <td>0.216770</td>\n",
       "      <td>0.052393</td>\n",
       "      <td>0.005509</td>\n",
       "      <td>0</td>\n",
       "      <td>0.009881</td>\n",
       "      <td>0.009881</td>\n",
       "      <td>0.009881</td>\n",
       "    </tr>\n",
       "    <tr>\n",
       "      <th>4</th>\n",
       "      <td>4</td>\n",
       "      <td>0.046103</td>\n",
       "      <td>0.011828</td>\n",
       "      <td>0</td>\n",
       "      <td>0.88823</td>\n",
       "      <td>0.79469</td>\n",
       "      <td>0.85986</td>\n",
       "      <td>0.415810</td>\n",
       "      <td>0.039670</td>\n",
       "      <td>0.004725</td>\n",
       "      <td>0</td>\n",
       "      <td>0.009881</td>\n",
       "      <td>0.009881</td>\n",
       "      <td>0.009881</td>\n",
       "    </tr>\n",
       "  </tbody>\n",
       "</table>\n",
       "</div>\n",
       "      <button class=\"colab-df-convert\" onclick=\"convertToInteractive('df-2463d60e-ed22-4fa3-bdfe-c5df47e479bf')\"\n",
       "              title=\"Convert this dataframe to an interactive table.\"\n",
       "              style=\"display:none;\">\n",
       "        \n",
       "  <svg xmlns=\"http://www.w3.org/2000/svg\" height=\"24px\"viewBox=\"0 0 24 24\"\n",
       "       width=\"24px\">\n",
       "    <path d=\"M0 0h24v24H0V0z\" fill=\"none\"/>\n",
       "    <path d=\"M18.56 5.44l.94 2.06.94-2.06 2.06-.94-2.06-.94-.94-2.06-.94 2.06-2.06.94zm-11 1L8.5 8.5l.94-2.06 2.06-.94-2.06-.94L8.5 2.5l-.94 2.06-2.06.94zm10 10l.94 2.06.94-2.06 2.06-.94-2.06-.94-.94-2.06-.94 2.06-2.06.94z\"/><path d=\"M17.41 7.96l-1.37-1.37c-.4-.4-.92-.59-1.43-.59-.52 0-1.04.2-1.43.59L10.3 9.45l-7.72 7.72c-.78.78-.78 2.05 0 2.83L4 21.41c.39.39.9.59 1.41.59.51 0 1.02-.2 1.41-.59l7.78-7.78 2.81-2.81c.8-.78.8-2.07 0-2.86zM5.41 20L4 18.59l7.72-7.72 1.47 1.35L5.41 20z\"/>\n",
       "  </svg>\n",
       "      </button>\n",
       "      \n",
       "  <style>\n",
       "    .colab-df-container {\n",
       "      display:flex;\n",
       "      flex-wrap:wrap;\n",
       "      gap: 12px;\n",
       "    }\n",
       "\n",
       "    .colab-df-convert {\n",
       "      background-color: #E8F0FE;\n",
       "      border: none;\n",
       "      border-radius: 50%;\n",
       "      cursor: pointer;\n",
       "      display: none;\n",
       "      fill: #1967D2;\n",
       "      height: 32px;\n",
       "      padding: 0 0 0 0;\n",
       "      width: 32px;\n",
       "    }\n",
       "\n",
       "    .colab-df-convert:hover {\n",
       "      background-color: #E2EBFA;\n",
       "      box-shadow: 0px 1px 2px rgba(60, 64, 67, 0.3), 0px 1px 3px 1px rgba(60, 64, 67, 0.15);\n",
       "      fill: #174EA6;\n",
       "    }\n",
       "\n",
       "    [theme=dark] .colab-df-convert {\n",
       "      background-color: #3B4455;\n",
       "      fill: #D2E3FC;\n",
       "    }\n",
       "\n",
       "    [theme=dark] .colab-df-convert:hover {\n",
       "      background-color: #434B5C;\n",
       "      box-shadow: 0px 1px 3px 1px rgba(0, 0, 0, 0.15);\n",
       "      filter: drop-shadow(0px 1px 2px rgba(0, 0, 0, 0.3));\n",
       "      fill: #FFFFFF;\n",
       "    }\n",
       "  </style>\n",
       "\n",
       "      <script>\n",
       "        const buttonEl =\n",
       "          document.querySelector('#df-2463d60e-ed22-4fa3-bdfe-c5df47e479bf button.colab-df-convert');\n",
       "        buttonEl.style.display =\n",
       "          google.colab.kernel.accessAllowed ? 'block' : 'none';\n",
       "\n",
       "        async function convertToInteractive(key) {\n",
       "          const element = document.querySelector('#df-2463d60e-ed22-4fa3-bdfe-c5df47e479bf');\n",
       "          const dataTable =\n",
       "            await google.colab.kernel.invokeFunction('convertToInteractive',\n",
       "                                                     [key], {});\n",
       "          if (!dataTable) return;\n",
       "\n",
       "          const docLinkHtml = 'Like what you see? Visit the ' +\n",
       "            '<a target=\"_blank\" href=https://colab.research.google.com/notebooks/data_table.ipynb>data table notebook</a>'\n",
       "            + ' to learn more about interactive tables.';\n",
       "          element.innerHTML = '';\n",
       "          dataTable['output_type'] = 'display_data';\n",
       "          await google.colab.output.renderOutput(dataTable, element);\n",
       "          const docLink = document.createElement('div');\n",
       "          docLink.innerHTML = docLinkHtml;\n",
       "          element.appendChild(docLink);\n",
       "        }\n",
       "      </script>\n",
       "    </div>\n",
       "  </div>\n",
       "  "
      ],
      "text/plain": [
       "                  epoch        train/box_loss        train/obj_loss  \\\n",
       "0                     0              0.103660              0.016362   \n",
       "1                     1              0.070789              0.017180   \n",
       "2                     2              0.058244              0.015622   \n",
       "3                     3              0.051925              0.014235   \n",
       "4                     4              0.046103              0.011828   \n",
       "\n",
       "         train/cls_loss     metrics/precision        metrics/recall  \\\n",
       "0                     0               0.50133               0.19104   \n",
       "1                     0               0.31527               0.48000   \n",
       "2                     0               0.49477               0.61000   \n",
       "3                     0               0.79260               0.70000   \n",
       "4                     0               0.88823               0.79469   \n",
       "\n",
       "        metrics/mAP_0.5  metrics/mAP_0.5:0.95          val/box_loss  \\\n",
       "0               0.23911              0.064793              0.078201   \n",
       "1               0.23636              0.053405              0.067916   \n",
       "2               0.44051              0.183610              0.053835   \n",
       "3               0.75299              0.216770              0.052393   \n",
       "4               0.85986              0.415810              0.039670   \n",
       "\n",
       "           val/obj_loss          val/cls_loss                 x/lr0  \\\n",
       "0              0.009138                     0              0.070448   \n",
       "1              0.006766                     0              0.040422   \n",
       "2              0.006035                     0              0.010369   \n",
       "3              0.005509                     0              0.009881   \n",
       "4              0.004725                     0              0.009881   \n",
       "\n",
       "                  x/lr1                 x/lr2  \n",
       "0              0.003284              0.003284  \n",
       "1              0.006591              0.006591  \n",
       "2              0.009871              0.009871  \n",
       "3              0.009881              0.009881  \n",
       "4              0.009881              0.009881  "
      ]
     },
     "execution_count": 35,
     "metadata": {},
     "output_type": "execute_result"
    }
   ],
   "source": [
    "# Train-Test loss\n",
    "df = pd.read_csv('/content/drive/MyDrive/3_weights/size360/results.csv')\n",
    "df.head()"
   ]
  },
  {
   "cell_type": "code",
   "execution_count": 37,
   "metadata": {
    "id": "qjmIatu4nj0Z"
   },
   "outputs": [],
   "source": [
    "# strip white space out from columns name\n",
    "df.columns = [i.strip() for i in df.columns]"
   ]
  },
  {
   "cell_type": "code",
   "execution_count": 49,
   "metadata": {
    "colab": {
     "base_uri": "https://localhost:8080/",
     "height": 542
    },
    "id": "giGsM3HOnmNK",
    "outputId": "fb190a73-c225-4e85-bbf9-32a9f012eb1c"
   },
   "outputs": [
    {
     "data": {
      "text/html": [
       "<html>\n",
       "<head><meta charset=\"utf-8\" /></head>\n",
       "<body>\n",
       "    <div>            <script src=\"https://cdnjs.cloudflare.com/ajax/libs/mathjax/2.7.5/MathJax.js?config=TeX-AMS-MML_SVG\"></script><script type=\"text/javascript\">if (window.MathJax) {MathJax.Hub.Config({SVG: {font: \"STIX-Web\"}});}</script>                <script type=\"text/javascript\">window.PlotlyConfig = {MathJaxConfig: 'local'};</script>\n",
       "        <script src=\"https://cdn.plot.ly/plotly-2.8.3.min.js\"></script>                <div id=\"9c7f287b-0e7d-4acd-a144-360225ea947c\" class=\"plotly-graph-div\" style=\"height:525px; width:100%;\"></div>            <script type=\"text/javascript\">                                    window.PLOTLYENV=window.PLOTLYENV || {};                                    if (document.getElementById(\"9c7f287b-0e7d-4acd-a144-360225ea947c\")) {                    Plotly.newPlot(                        \"9c7f287b-0e7d-4acd-a144-360225ea947c\",                        [{\"hovertemplate\":\"epoch=%{x}<br>train/obj_loss=%{y}<extra></extra>\",\"legendgroup\":\"\",\"line\":{\"color\":\"#636efa\",\"dash\":\"solid\"},\"marker\":{\"symbol\":\"circle\"},\"mode\":\"lines\",\"name\":\"\",\"orientation\":\"v\",\"showlegend\":false,\"x\":[0,1,2,3,4,5,6,7,8,9,10,11,12,13,14,15,16,17,18,19,20,21,22,23,24,25,26,27,28,29,30,31,32,33,34,35,36,37,38,39,40,41,42,43,44,45,46,47,48,49,50,51,52,53,54,55,56,57,58,59,60,61,62,63,64,65,66,67,68,69,70,71,72,73,74,75,76,77,78,79,80,81,82,83,84,85,86,87,88,89,90,91,92,93,94,95,96,97,98,99,100,101,102,103,104,105,106,107,108,109,110,111,112,113,114,115,116,117,118,119,120,121,122,123,124,125,126,127,128,129,130,131,132,133,134,135,136,137,138,139,140,141,142,143,144,145,146,147,148,149,150,151,152,153,154,155,156,157,158,159,160,161,162,163,164,165,166,167,168,169,170,171,172,173,174,175,176,177,178,179,180,181,182,183,184,185,186,187,188,189,190,191,192,193,194,195,196,197,198,199,200,201,202,203,204,205,206,207,208,209,210,211,212,213,214,215,216,217,218,219,220,221,222,223],\"xaxis\":\"x\",\"y\":[0.016362,0.01718,0.015622,0.014235,0.011828,0.010267,0.0096394,0.0087868,0.0083939,0.0085866,0.008335,0.0081092,0.0080063,0.0079323,0.0078107,0.0076647,0.0074094,0.0075546,0.0072748,0.0074532,0.0072833,0.0074027,0.0069893,0.0072963,0.0068268,0.0070565,0.0071745,0.007019,0.0068446,0.006934,0.0065382,0.0067349,0.0067243,0.0064691,0.006568,0.0064997,0.0065949,0.0066514,0.0065234,0.0064808,0.0061933,0.0065692,0.0066413,0.006462,0.0063935,0.0062419,0.0064054,0.0062625,0.0064552,0.0061616,0.0062591,0.0058943,0.0061947,0.0060296,0.0060916,0.0060325,0.0063936,0.0060178,0.006201,0.0060587,0.0060135,0.0057243,0.0060077,0.0058336,0.0061149,0.0057795,0.005906,0.0059746,0.005872,0.0056432,0.005607,0.0056838,0.0056231,0.0056824,0.005823,0.0055964,0.005657,0.0056301,0.0056398,0.0056381,0.0056098,0.0055193,0.0053912,0.0056609,0.0054078,0.0056403,0.0054065,0.0052352,0.0055122,0.005366,0.0051951,0.005346,0.0052692,0.0053334,0.0054333,0.00545,0.0052973,0.0052735,0.0052699,0.0052342,0.0051176,0.0052359,0.0050577,0.0051016,0.0051206,0.0050557,0.0053209,0.005154,0.0050903,0.0051019,0.0049829,0.0050124,0.0051,0.0050274,0.004979,0.0050328,0.0049658,0.0050319,0.005154,0.0048377,0.0048711,0.0049853,0.0050161,0.0051992,0.0048407,0.0048741,0.0048371,0.0048693,0.0049771,0.0048421,0.0046866,0.004947,0.0047675,0.0046315,0.0046643,0.0047308,0.0047578,0.0046117,0.0047841,0.0047267,0.0045648,0.0045918,0.0047873,0.0046297,0.0045169,0.0046242,0.0046256,0.0045144,0.0045443,0.0045123,0.0045013,0.0044467,0.0045091,0.0045626,0.0043502,0.0044327,0.0045057,0.0044845,0.004544,0.0043817,0.0043407,0.0043714,0.0043337,0.0043077,0.0043541,0.0044701,0.0044002,0.0044153,0.004233,0.0042576,0.0043849,0.0044653,0.0045352,0.0043497,0.0044039,0.0041105,0.0041799,0.0041942,0.0042694,0.0043198,0.0042144,0.004397,0.0041774,0.0039972,0.004166,0.0041107,0.0040636,0.0041198,0.0040341,0.0040666,0.0040875,0.0041344,0.0042301,0.0040161,0.0039857,0.0040509,0.004084,0.0040586,0.0039149,0.0041827,0.0039204,0.0039182,0.0040968,0.003958,0.0039093,0.004001,0.0040535,0.003909,0.0039626,0.0039635,0.0038565,0.0038223,0.0039909,0.0038521,0.0038382,0.0037295,0.0039349,0.0036922,0.0038039,0.00379,0.0037338,0.0037359,0.0037653,0.0036102],\"yaxis\":\"y\",\"type\":\"scatter\"},{\"name\":\"test\",\"visible\":\"legendonly\",\"x\":[0,1,2,3,4,5,6,7,8,9,10,11,12,13,14,15,16,17,18,19,20,21,22,23,24,25,26,27,28,29,30,31,32,33,34,35,36,37,38,39,40,41,42,43,44,45,46,47,48,49,50,51,52,53,54,55,56,57,58,59,60,61,62,63,64,65,66,67,68,69,70,71,72,73,74,75,76,77,78,79,80,81,82,83,84,85,86,87,88,89,90,91,92,93,94,95,96,97,98,99,100,101,102,103,104,105,106,107,108,109,110,111,112,113,114,115,116,117,118,119,120,121,122,123,124,125,126,127,128,129,130,131,132,133,134,135,136,137,138,139,140,141,142,143,144,145,146,147,148,149,150,151,152,153,154,155,156,157,158,159,160,161,162,163,164,165,166,167,168,169,170,171,172,173,174,175,176,177,178,179,180,181,182,183,184,185,186,187,188,189,190,191,192,193,194,195,196,197,198,199,200,201,202,203,204,205,206,207,208,209,210,211,212,213,214,215,216,217,218,219,220,221,222,223],\"y\":[0.0091384,0.0067662,0.0060351,0.0055086,0.0047246,0.003845,0.0039088,0.0038816,0.0039734,0.0034476,0.0034622,0.0034591,0.0034773,0.0032841,0.0030311,0.0032292,0.0031376,0.0031829,0.0031205,0.0031011,0.0032217,0.003106,0.0029178,0.0031441,0.0030443,0.0028926,0.0029175,0.0029087,0.0029127,0.0030163,0.002908,0.0029436,0.0028756,0.0030968,0.0029775,0.0029356,0.0029431,0.0030601,0.0028528,0.0030478,0.0027401,0.0029352,0.0028467,0.0029563,0.0029498,0.0028545,0.0027939,0.0030124,0.0028357,0.0029277,0.002952,0.0029733,0.0028528,0.0028092,0.0029098,0.0028157,0.0027272,0.0026311,0.0027626,0.0027025,0.0029128,0.0026962,0.0026263,0.0026179,0.0027071,0.0027369,0.0026382,0.0026404,0.0026581,0.0026782,0.0026063,0.0027795,0.0027207,0.0027097,0.0028213,0.0028332,0.0026658,0.002766,0.0027395,0.0026989,0.0028883,0.0026892,0.0029246,0.002764,0.0027721,0.0027019,0.0026844,0.0027462,0.0028818,0.0028074,0.0027004,0.0027597,0.0026902,0.0026331,0.0027258,0.0027719,0.0026145,0.0025909,0.0026667,0.0027152,0.002725,0.0026885,0.0027784,0.0027451,0.00277,0.0026808,0.0028108,0.0026483,0.0026299,0.0027533,0.0027304,0.0028852,0.0029681,0.0026369,0.002588,0.0027584,0.0027767,0.0026629,0.0026451,0.0025362,0.0027285,0.0025926,0.002575,0.0025716,0.0025275,0.0025902,0.0026672,0.0026023,0.0027247,0.0025694,0.0025541,0.0025885,0.0026062,0.0025644,0.0026703,0.0027308,0.0027303,0.0026379,0.0028236,0.0028558,0.0028135,0.002687,0.0027067,0.0027555,0.0026453,0.0026629,0.0026583,0.00264,0.0027621,0.0027001,0.0026063,0.0026222,0.0026311,0.0025997,0.0026064,0.002573,0.0026022,0.0025977,0.0025983,0.0026011,0.0026286,0.0025949,0.0026105,0.0026763,0.0026543,0.0026048,0.0026338,0.002679,0.0026631,0.0027177,0.0027623,0.0027468,0.0025302,0.0025947,0.002597,0.0025853,0.0026573,0.0026022,0.0025825,0.0026794,0.002566,0.0025365,0.0026097,0.0026414,0.0026279,0.0026529,0.0027356,0.0026786,0.002648,0.0026804,0.0026766,0.0026469,0.0026856,0.0026465,0.0026832,0.0026822,0.0026807,0.0026367,0.002668,0.0026454,0.0026436,0.0027261,0.0027319,0.0027173,0.002725,0.0027071,0.0026555,0.0026763,0.0027001,0.0027126,0.0026894,0.0026626,0.0027528,0.0027628,0.0027894,0.0028247,0.0028299,0.0027651,0.0027774,0.0027865,0.0027655,0.0027599,0.0027346,0.0027714],\"type\":\"scatter\"}],                        {\"template\":{\"data\":{\"bar\":[{\"error_x\":{\"color\":\"#2a3f5f\"},\"error_y\":{\"color\":\"#2a3f5f\"},\"marker\":{\"line\":{\"color\":\"#E5ECF6\",\"width\":0.5},\"pattern\":{\"fillmode\":\"overlay\",\"size\":10,\"solidity\":0.2}},\"type\":\"bar\"}],\"barpolar\":[{\"marker\":{\"line\":{\"color\":\"#E5ECF6\",\"width\":0.5},\"pattern\":{\"fillmode\":\"overlay\",\"size\":10,\"solidity\":0.2}},\"type\":\"barpolar\"}],\"carpet\":[{\"aaxis\":{\"endlinecolor\":\"#2a3f5f\",\"gridcolor\":\"white\",\"linecolor\":\"white\",\"minorgridcolor\":\"white\",\"startlinecolor\":\"#2a3f5f\"},\"baxis\":{\"endlinecolor\":\"#2a3f5f\",\"gridcolor\":\"white\",\"linecolor\":\"white\",\"minorgridcolor\":\"white\",\"startlinecolor\":\"#2a3f5f\"},\"type\":\"carpet\"}],\"choropleth\":[{\"colorbar\":{\"outlinewidth\":0,\"ticks\":\"\"},\"type\":\"choropleth\"}],\"contour\":[{\"colorbar\":{\"outlinewidth\":0,\"ticks\":\"\"},\"colorscale\":[[0.0,\"#0d0887\"],[0.1111111111111111,\"#46039f\"],[0.2222222222222222,\"#7201a8\"],[0.3333333333333333,\"#9c179e\"],[0.4444444444444444,\"#bd3786\"],[0.5555555555555556,\"#d8576b\"],[0.6666666666666666,\"#ed7953\"],[0.7777777777777778,\"#fb9f3a\"],[0.8888888888888888,\"#fdca26\"],[1.0,\"#f0f921\"]],\"type\":\"contour\"}],\"contourcarpet\":[{\"colorbar\":{\"outlinewidth\":0,\"ticks\":\"\"},\"type\":\"contourcarpet\"}],\"heatmap\":[{\"colorbar\":{\"outlinewidth\":0,\"ticks\":\"\"},\"colorscale\":[[0.0,\"#0d0887\"],[0.1111111111111111,\"#46039f\"],[0.2222222222222222,\"#7201a8\"],[0.3333333333333333,\"#9c179e\"],[0.4444444444444444,\"#bd3786\"],[0.5555555555555556,\"#d8576b\"],[0.6666666666666666,\"#ed7953\"],[0.7777777777777778,\"#fb9f3a\"],[0.8888888888888888,\"#fdca26\"],[1.0,\"#f0f921\"]],\"type\":\"heatmap\"}],\"heatmapgl\":[{\"colorbar\":{\"outlinewidth\":0,\"ticks\":\"\"},\"colorscale\":[[0.0,\"#0d0887\"],[0.1111111111111111,\"#46039f\"],[0.2222222222222222,\"#7201a8\"],[0.3333333333333333,\"#9c179e\"],[0.4444444444444444,\"#bd3786\"],[0.5555555555555556,\"#d8576b\"],[0.6666666666666666,\"#ed7953\"],[0.7777777777777778,\"#fb9f3a\"],[0.8888888888888888,\"#fdca26\"],[1.0,\"#f0f921\"]],\"type\":\"heatmapgl\"}],\"histogram\":[{\"marker\":{\"pattern\":{\"fillmode\":\"overlay\",\"size\":10,\"solidity\":0.2}},\"type\":\"histogram\"}],\"histogram2d\":[{\"colorbar\":{\"outlinewidth\":0,\"ticks\":\"\"},\"colorscale\":[[0.0,\"#0d0887\"],[0.1111111111111111,\"#46039f\"],[0.2222222222222222,\"#7201a8\"],[0.3333333333333333,\"#9c179e\"],[0.4444444444444444,\"#bd3786\"],[0.5555555555555556,\"#d8576b\"],[0.6666666666666666,\"#ed7953\"],[0.7777777777777778,\"#fb9f3a\"],[0.8888888888888888,\"#fdca26\"],[1.0,\"#f0f921\"]],\"type\":\"histogram2d\"}],\"histogram2dcontour\":[{\"colorbar\":{\"outlinewidth\":0,\"ticks\":\"\"},\"colorscale\":[[0.0,\"#0d0887\"],[0.1111111111111111,\"#46039f\"],[0.2222222222222222,\"#7201a8\"],[0.3333333333333333,\"#9c179e\"],[0.4444444444444444,\"#bd3786\"],[0.5555555555555556,\"#d8576b\"],[0.6666666666666666,\"#ed7953\"],[0.7777777777777778,\"#fb9f3a\"],[0.8888888888888888,\"#fdca26\"],[1.0,\"#f0f921\"]],\"type\":\"histogram2dcontour\"}],\"mesh3d\":[{\"colorbar\":{\"outlinewidth\":0,\"ticks\":\"\"},\"type\":\"mesh3d\"}],\"parcoords\":[{\"line\":{\"colorbar\":{\"outlinewidth\":0,\"ticks\":\"\"}},\"type\":\"parcoords\"}],\"pie\":[{\"automargin\":true,\"type\":\"pie\"}],\"scatter\":[{\"marker\":{\"colorbar\":{\"outlinewidth\":0,\"ticks\":\"\"}},\"type\":\"scatter\"}],\"scatter3d\":[{\"line\":{\"colorbar\":{\"outlinewidth\":0,\"ticks\":\"\"}},\"marker\":{\"colorbar\":{\"outlinewidth\":0,\"ticks\":\"\"}},\"type\":\"scatter3d\"}],\"scattercarpet\":[{\"marker\":{\"colorbar\":{\"outlinewidth\":0,\"ticks\":\"\"}},\"type\":\"scattercarpet\"}],\"scattergeo\":[{\"marker\":{\"colorbar\":{\"outlinewidth\":0,\"ticks\":\"\"}},\"type\":\"scattergeo\"}],\"scattergl\":[{\"marker\":{\"colorbar\":{\"outlinewidth\":0,\"ticks\":\"\"}},\"type\":\"scattergl\"}],\"scattermapbox\":[{\"marker\":{\"colorbar\":{\"outlinewidth\":0,\"ticks\":\"\"}},\"type\":\"scattermapbox\"}],\"scatterpolar\":[{\"marker\":{\"colorbar\":{\"outlinewidth\":0,\"ticks\":\"\"}},\"type\":\"scatterpolar\"}],\"scatterpolargl\":[{\"marker\":{\"colorbar\":{\"outlinewidth\":0,\"ticks\":\"\"}},\"type\":\"scatterpolargl\"}],\"scatterternary\":[{\"marker\":{\"colorbar\":{\"outlinewidth\":0,\"ticks\":\"\"}},\"type\":\"scatterternary\"}],\"surface\":[{\"colorbar\":{\"outlinewidth\":0,\"ticks\":\"\"},\"colorscale\":[[0.0,\"#0d0887\"],[0.1111111111111111,\"#46039f\"],[0.2222222222222222,\"#7201a8\"],[0.3333333333333333,\"#9c179e\"],[0.4444444444444444,\"#bd3786\"],[0.5555555555555556,\"#d8576b\"],[0.6666666666666666,\"#ed7953\"],[0.7777777777777778,\"#fb9f3a\"],[0.8888888888888888,\"#fdca26\"],[1.0,\"#f0f921\"]],\"type\":\"surface\"}],\"table\":[{\"cells\":{\"fill\":{\"color\":\"#EBF0F8\"},\"line\":{\"color\":\"white\"}},\"header\":{\"fill\":{\"color\":\"#C8D4E3\"},\"line\":{\"color\":\"white\"}},\"type\":\"table\"}]},\"layout\":{\"annotationdefaults\":{\"arrowcolor\":\"#2a3f5f\",\"arrowhead\":0,\"arrowwidth\":1},\"autotypenumbers\":\"strict\",\"coloraxis\":{\"colorbar\":{\"outlinewidth\":0,\"ticks\":\"\"}},\"colorscale\":{\"diverging\":[[0,\"#8e0152\"],[0.1,\"#c51b7d\"],[0.2,\"#de77ae\"],[0.3,\"#f1b6da\"],[0.4,\"#fde0ef\"],[0.5,\"#f7f7f7\"],[0.6,\"#e6f5d0\"],[0.7,\"#b8e186\"],[0.8,\"#7fbc41\"],[0.9,\"#4d9221\"],[1,\"#276419\"]],\"sequential\":[[0.0,\"#0d0887\"],[0.1111111111111111,\"#46039f\"],[0.2222222222222222,\"#7201a8\"],[0.3333333333333333,\"#9c179e\"],[0.4444444444444444,\"#bd3786\"],[0.5555555555555556,\"#d8576b\"],[0.6666666666666666,\"#ed7953\"],[0.7777777777777778,\"#fb9f3a\"],[0.8888888888888888,\"#fdca26\"],[1.0,\"#f0f921\"]],\"sequentialminus\":[[0.0,\"#0d0887\"],[0.1111111111111111,\"#46039f\"],[0.2222222222222222,\"#7201a8\"],[0.3333333333333333,\"#9c179e\"],[0.4444444444444444,\"#bd3786\"],[0.5555555555555556,\"#d8576b\"],[0.6666666666666666,\"#ed7953\"],[0.7777777777777778,\"#fb9f3a\"],[0.8888888888888888,\"#fdca26\"],[1.0,\"#f0f921\"]]},\"colorway\":[\"#636efa\",\"#EF553B\",\"#00cc96\",\"#ab63fa\",\"#FFA15A\",\"#19d3f3\",\"#FF6692\",\"#B6E880\",\"#FF97FF\",\"#FECB52\"],\"font\":{\"color\":\"#2a3f5f\"},\"geo\":{\"bgcolor\":\"white\",\"lakecolor\":\"white\",\"landcolor\":\"#E5ECF6\",\"showlakes\":true,\"showland\":true,\"subunitcolor\":\"white\"},\"hoverlabel\":{\"align\":\"left\"},\"hovermode\":\"closest\",\"mapbox\":{\"style\":\"light\"},\"paper_bgcolor\":\"white\",\"plot_bgcolor\":\"#E5ECF6\",\"polar\":{\"angularaxis\":{\"gridcolor\":\"white\",\"linecolor\":\"white\",\"ticks\":\"\"},\"bgcolor\":\"#E5ECF6\",\"radialaxis\":{\"gridcolor\":\"white\",\"linecolor\":\"white\",\"ticks\":\"\"}},\"scene\":{\"xaxis\":{\"backgroundcolor\":\"#E5ECF6\",\"gridcolor\":\"white\",\"gridwidth\":2,\"linecolor\":\"white\",\"showbackground\":true,\"ticks\":\"\",\"zerolinecolor\":\"white\"},\"yaxis\":{\"backgroundcolor\":\"#E5ECF6\",\"gridcolor\":\"white\",\"gridwidth\":2,\"linecolor\":\"white\",\"showbackground\":true,\"ticks\":\"\",\"zerolinecolor\":\"white\"},\"zaxis\":{\"backgroundcolor\":\"#E5ECF6\",\"gridcolor\":\"white\",\"gridwidth\":2,\"linecolor\":\"white\",\"showbackground\":true,\"ticks\":\"\",\"zerolinecolor\":\"white\"}},\"shapedefaults\":{\"line\":{\"color\":\"#2a3f5f\"}},\"ternary\":{\"aaxis\":{\"gridcolor\":\"white\",\"linecolor\":\"white\",\"ticks\":\"\"},\"baxis\":{\"gridcolor\":\"white\",\"linecolor\":\"white\",\"ticks\":\"\"},\"bgcolor\":\"#E5ECF6\",\"caxis\":{\"gridcolor\":\"white\",\"linecolor\":\"white\",\"ticks\":\"\"}},\"title\":{\"x\":0.05},\"xaxis\":{\"automargin\":true,\"gridcolor\":\"white\",\"linecolor\":\"white\",\"ticks\":\"\",\"title\":{\"standoff\":15},\"zerolinecolor\":\"white\",\"zerolinewidth\":2},\"yaxis\":{\"automargin\":true,\"gridcolor\":\"white\",\"linecolor\":\"white\",\"ticks\":\"\",\"title\":{\"standoff\":15},\"zerolinecolor\":\"white\",\"zerolinewidth\":2}}},\"xaxis\":{\"anchor\":\"y\",\"domain\":[0.0,1.0],\"title\":{\"text\":\"epoch\"},\"showline\":true,\"linewidth\":1.4,\"linecolor\":\"black\",\"mirror\":true,\"gridcolor\":\"#E0E1E2\"},\"yaxis\":{\"anchor\":\"x\",\"domain\":[0.0,1.0],\"title\":{\"text\":\"Object_loss\"},\"showline\":true,\"linewidth\":1.4,\"linecolor\":\"black\",\"mirror\":true,\"gridcolor\":\"#E0E1E2\"},\"legend\":{\"tracegroupgap\":0},\"margin\":{\"t\":60},\"title\":{\"text\":\"Object loss during training\",\"x\":0.5},\"plot_bgcolor\":\"#FFFFFF\",\"showlegend\":true,\"shapes\":[{\"line\":{\"dash\":\"dash\",\"width\":1},\"type\":\"line\",\"x0\":123,\"x1\":123,\"xref\":\"x\",\"y0\":0,\"y1\":1,\"yref\":\"y domain\"}]},                        {\"responsive\": true}                    ).then(function(){\n",
       "                            \n",
       "var gd = document.getElementById('9c7f287b-0e7d-4acd-a144-360225ea947c');\n",
       "var x = new MutationObserver(function (mutations, observer) {{\n",
       "        var display = window.getComputedStyle(gd).display;\n",
       "        if (!display || display === 'none') {{\n",
       "            console.log([gd, 'removed!']);\n",
       "            Plotly.purge(gd);\n",
       "            observer.disconnect();\n",
       "        }}\n",
       "}});\n",
       "\n",
       "// Listen for the removal of the full notebook cells\n",
       "var notebookContainer = gd.closest('#notebook-container');\n",
       "if (notebookContainer) {{\n",
       "    x.observe(notebookContainer, {childList: true});\n",
       "}}\n",
       "\n",
       "// Listen for the clearing of the current output cell\n",
       "var outputEl = gd.closest('.output');\n",
       "if (outputEl) {{\n",
       "    x.observe(outputEl, {childList: true});\n",
       "}}\n",
       "\n",
       "                        })                };                            </script>        </div>\n",
       "</body>\n",
       "</html>"
      ]
     },
     "metadata": {},
     "output_type": "display_data"
    }
   ],
   "source": [
    "fig = px.line(df,x = 'epoch',y='train/obj_loss',labels='train')\n",
    "fig.add_scatter(x=df['epoch'],y=df['val/obj_loss'],name=\"test\",visible='legendonly')\n",
    "fig.update_layout(plot_bgcolor= '#FFFFFF',yaxis_title='Object_loss',title_text='Object loss during training',title_x = 0.5,showlegend=True)\n",
    "fig.update_xaxes(showline=True,linewidth =1.4, linecolor = 'black', mirror =True, gridcolor = '#E0E1E2')\n",
    "fig.update_yaxes(showline=True,linewidth =1.4, linecolor = 'black', mirror =True, gridcolor = '#E0E1E2')\n",
    "fig.add_vline(x=123,line_width=1, line_dash=\"dash\")\n"
   ]
  },
  {
   "cell_type": "code",
   "execution_count": null,
   "metadata": {
    "id": "44Jvojl7oPEp"
   },
   "outputs": [],
   "source": []
  }
 ],
 "metadata": {
  "colab": {
   "authorship_tag": "ABX9TyPHs6x/sWL2gwnc9GSihSXw",
   "include_colab_link": true,
   "provenance": []
  },
  "kernelspec": {
   "display_name": "Python 3",
   "language": "python",
   "name": "python3"
  },
  "language_info": {
   "codemirror_mode": {
    "name": "ipython",
    "version": 3
   },
   "file_extension": ".py",
   "mimetype": "text/x-python",
   "name": "python",
   "nbconvert_exporter": "python",
   "pygments_lexer": "ipython3",
   "version": "3.8.5"
  }
 },
 "nbformat": 4,
 "nbformat_minor": 1
}
